{
 "cells": [
  {
   "cell_type": "code",
   "execution_count": 86,
   "id": "d744dd29",
   "metadata": {},
   "outputs": [],
   "source": [
    "import pandas as pd\n",
    "import numpy as np"
   ]
  },
  {
   "cell_type": "code",
   "execution_count": 87,
   "id": "18270fe9",
   "metadata": {},
   "outputs": [
    {
     "output_type": "execute_result",
     "data": {
      "text/plain": [
       "       _dt_evolucao   _dt_notificacao      _dt_sintomas _classificacao  \\\n",
       "0  25/01/2020 00:00  03/01/2020 00:00  01/01/2020 00:00     Descartado   \n",
       "1  03/01/2020 00:00  03/01/2020 00:00  01/01/2020 00:00     Descartado   \n",
       "2  05/01/2020 00:00  03/01/2020 00:00  03/01/2020 00:00     Descartado   \n",
       "3  16/01/2020 00:00  08/01/2020 00:00  04/01/2020 00:00     Descartado   \n",
       "4  11/01/2020 00:00  08/01/2020 00:00  05/01/2020 00:00     Descartado   \n",
       "\n",
       "   _conclusao  _origem _comorb_cardio _comorb_cromossomica _comorb_diabetes  \\\n",
       "0  Recuperado  SIVEP,             NaN                  NaN              NaN   \n",
       "1       Óbito  SIVEP,             NaN                  NaN              NaN   \n",
       "2       Óbito  SIVEP,             NaN                  NaN              NaN   \n",
       "3       Óbito  SIVEP,             NaN                  NaN              NaN   \n",
       "4  Recuperado  SIVEP,             NaN                  NaN              NaN   \n",
       "\n",
       "  _comorb_hemato  ... _sintoma_tosse _sintoma_outros                  _srag  \\\n",
       "0            NaN  ...            Sim             Sim  SRAG não especificado   \n",
       "1            NaN  ...            Sim             Sim            Influenza B   \n",
       "2            NaN  ...            Sim             Sim  SRAG não especificado   \n",
       "3            NaN  ...            Sim             Sim  SRAG não especificado   \n",
       "4            NaN  ...            Sim             Sim  SRAG não especificado   \n",
       "\n",
       "  _teste_anticorpo _teste_antigeno _teste_pcr         _bairro    _bairro_mapa  \\\n",
       "0              NaN             NaN        NaN          TARUMA          TARUMÃ   \n",
       "1              NaN             NaN        NaN      TARUMA-ACU      TARUMÃ-AÇÚ   \n",
       "2              NaN             NaN        NaN  JORGE TEIXEIRA  JORGE TEIXEIRA   \n",
       "3              NaN             NaN        NaN          FLORES          FLORES   \n",
       "4              NaN             NaN        NaN  CIDADE DE DEUS  CIDADE DE DEUS   \n",
       "\n",
       "  _distrito        _taxa  \n",
       "0     OESTE  0,243042897  \n",
       "1     OESTE  0,684931507  \n",
       "2     LESTE  0,073137374  \n",
       "3       SUL  0,198306463  \n",
       "4     NORTE  0,117699678  \n",
       "\n",
       "[5 rows x 39 columns]"
      ],
      "text/html": "<div>\n<style scoped>\n    .dataframe tbody tr th:only-of-type {\n        vertical-align: middle;\n    }\n\n    .dataframe tbody tr th {\n        vertical-align: top;\n    }\n\n    .dataframe thead th {\n        text-align: right;\n    }\n</style>\n<table border=\"1\" class=\"dataframe\">\n  <thead>\n    <tr style=\"text-align: right;\">\n      <th></th>\n      <th>_dt_evolucao</th>\n      <th>_dt_notificacao</th>\n      <th>_dt_sintomas</th>\n      <th>_classificacao</th>\n      <th>_conclusao</th>\n      <th>_origem</th>\n      <th>_comorb_cardio</th>\n      <th>_comorb_cromossomica</th>\n      <th>_comorb_diabetes</th>\n      <th>_comorb_hemato</th>\n      <th>...</th>\n      <th>_sintoma_tosse</th>\n      <th>_sintoma_outros</th>\n      <th>_srag</th>\n      <th>_teste_anticorpo</th>\n      <th>_teste_antigeno</th>\n      <th>_teste_pcr</th>\n      <th>_bairro</th>\n      <th>_bairro_mapa</th>\n      <th>_distrito</th>\n      <th>_taxa</th>\n    </tr>\n  </thead>\n  <tbody>\n    <tr>\n      <th>0</th>\n      <td>25/01/2020 00:00</td>\n      <td>03/01/2020 00:00</td>\n      <td>01/01/2020 00:00</td>\n      <td>Descartado</td>\n      <td>Recuperado</td>\n      <td>SIVEP,</td>\n      <td>NaN</td>\n      <td>NaN</td>\n      <td>NaN</td>\n      <td>NaN</td>\n      <td>...</td>\n      <td>Sim</td>\n      <td>Sim</td>\n      <td>SRAG não especificado</td>\n      <td>NaN</td>\n      <td>NaN</td>\n      <td>NaN</td>\n      <td>TARUMA</td>\n      <td>TARUMÃ</td>\n      <td>OESTE</td>\n      <td>0,243042897</td>\n    </tr>\n    <tr>\n      <th>1</th>\n      <td>03/01/2020 00:00</td>\n      <td>03/01/2020 00:00</td>\n      <td>01/01/2020 00:00</td>\n      <td>Descartado</td>\n      <td>Óbito</td>\n      <td>SIVEP,</td>\n      <td>NaN</td>\n      <td>NaN</td>\n      <td>NaN</td>\n      <td>NaN</td>\n      <td>...</td>\n      <td>Sim</td>\n      <td>Sim</td>\n      <td>Influenza B</td>\n      <td>NaN</td>\n      <td>NaN</td>\n      <td>NaN</td>\n      <td>TARUMA-ACU</td>\n      <td>TARUMÃ-AÇÚ</td>\n      <td>OESTE</td>\n      <td>0,684931507</td>\n    </tr>\n    <tr>\n      <th>2</th>\n      <td>05/01/2020 00:00</td>\n      <td>03/01/2020 00:00</td>\n      <td>03/01/2020 00:00</td>\n      <td>Descartado</td>\n      <td>Óbito</td>\n      <td>SIVEP,</td>\n      <td>NaN</td>\n      <td>NaN</td>\n      <td>NaN</td>\n      <td>NaN</td>\n      <td>...</td>\n      <td>Sim</td>\n      <td>Sim</td>\n      <td>SRAG não especificado</td>\n      <td>NaN</td>\n      <td>NaN</td>\n      <td>NaN</td>\n      <td>JORGE TEIXEIRA</td>\n      <td>JORGE TEIXEIRA</td>\n      <td>LESTE</td>\n      <td>0,073137374</td>\n    </tr>\n    <tr>\n      <th>3</th>\n      <td>16/01/2020 00:00</td>\n      <td>08/01/2020 00:00</td>\n      <td>04/01/2020 00:00</td>\n      <td>Descartado</td>\n      <td>Óbito</td>\n      <td>SIVEP,</td>\n      <td>NaN</td>\n      <td>NaN</td>\n      <td>NaN</td>\n      <td>NaN</td>\n      <td>...</td>\n      <td>Sim</td>\n      <td>Sim</td>\n      <td>SRAG não especificado</td>\n      <td>NaN</td>\n      <td>NaN</td>\n      <td>NaN</td>\n      <td>FLORES</td>\n      <td>FLORES</td>\n      <td>SUL</td>\n      <td>0,198306463</td>\n    </tr>\n    <tr>\n      <th>4</th>\n      <td>11/01/2020 00:00</td>\n      <td>08/01/2020 00:00</td>\n      <td>05/01/2020 00:00</td>\n      <td>Descartado</td>\n      <td>Recuperado</td>\n      <td>SIVEP,</td>\n      <td>NaN</td>\n      <td>NaN</td>\n      <td>NaN</td>\n      <td>NaN</td>\n      <td>...</td>\n      <td>Sim</td>\n      <td>Sim</td>\n      <td>SRAG não especificado</td>\n      <td>NaN</td>\n      <td>NaN</td>\n      <td>NaN</td>\n      <td>CIDADE DE DEUS</td>\n      <td>CIDADE DE DEUS</td>\n      <td>NORTE</td>\n      <td>0,117699678</td>\n    </tr>\n  </tbody>\n</table>\n<p>5 rows × 39 columns</p>\n</div>"
     },
     "metadata": {},
     "execution_count": 87
    }
   ],
   "source": [
    "raw_data = pd.read_csv(\"manaus.csv\", sep=\";\", low_memory=False)\n",
    "raw_data.head()"
   ]
  },
  {
   "cell_type": "code",
   "execution_count": 88,
   "id": "a47a4d32",
   "metadata": {},
   "outputs": [
    {
     "output_type": "execute_result",
     "data": {
      "text/plain": [
       "         _dt_evolucao   _dt_notificacao      _dt_sintomas _classificacao  \\\n",
       "130  02/03/2020 00:00  23/02/2020 00:00  15/02/2020 00:00     Confirmado   \n",
       "144  01/03/2020 00:00  28/02/2020 00:00  26/02/2020 00:00     Confirmado   \n",
       "153  05/04/2020 00:00  02/03/2020 00:00  23/02/2020 00:00     Confirmado   \n",
       "158  14/03/2020 00:00  02/03/2020 00:00  29/02/2020 00:00     Confirmado   \n",
       "196  14/03/2020 00:00  11/03/2020 00:00  09/03/2020 00:00     Confirmado   \n",
       "\n",
       "     _conclusao           _origem _comorb_cardio _comorb_cromossomica  \\\n",
       "130  Recuperado        SIVEP, GAL            NaN                  NaN   \n",
       "144  Recuperado        SIVEP, GAL            NaN                  NaN   \n",
       "153  Recuperado  SIVEP, eSUS VE,             NaN                  NaN   \n",
       "158  Recuperado  SIVEP, eSUS VE,             Sim                  NaN   \n",
       "196  Recuperado        SIVEP, GAL            NaN                  NaN   \n",
       "\n",
       "    _comorb_diabetes _comorb_hemato  ... _sintoma_tosse _sintoma_outros  \\\n",
       "130              NaN            NaN  ...            Sim             Sim   \n",
       "144              NaN            NaN  ...            Sim             Sim   \n",
       "153              NaN            NaN  ...            Sim             Sim   \n",
       "158              NaN            NaN  ...            Sim             Sim   \n",
       "196              NaN            NaN  ...            Sim             Sim   \n",
       "\n",
       "                            _srag _teste_anticorpo _teste_antigeno _teste_pcr  \\\n",
       "130         SRAG não especificado              NaN             NaN        1.0   \n",
       "144  Vírus Sincicial Respiratório              NaN             NaN        1.0   \n",
       "153         SRAG não especificado              1.0             NaN        NaN   \n",
       "158         SRAG não especificado              2.0             NaN        NaN   \n",
       "196         SRAG não especificado              NaN             NaN        2.0   \n",
       "\n",
       "                 _bairro         _bairro_mapa _distrito        _taxa  \n",
       "130            MAUAZINHO            MAUAZINHO     LESTE   0,35040998  \n",
       "144          NOVO ALEIXO          NOVO ALEIXO     NORTE  0,085452557  \n",
       "153  PRACA 14 DE JANEIRO  PRAÇA 14 DE JANEIRO       SUL  0,861920359  \n",
       "158               FLORES               FLORES       SUL  0,198306463  \n",
       "196          CIDADE NOVA          CIDADE NOVA     NORTE  0,068152389  \n",
       "\n",
       "[5 rows x 39 columns]"
      ],
      "text/html": "<div>\n<style scoped>\n    .dataframe tbody tr th:only-of-type {\n        vertical-align: middle;\n    }\n\n    .dataframe tbody tr th {\n        vertical-align: top;\n    }\n\n    .dataframe thead th {\n        text-align: right;\n    }\n</style>\n<table border=\"1\" class=\"dataframe\">\n  <thead>\n    <tr style=\"text-align: right;\">\n      <th></th>\n      <th>_dt_evolucao</th>\n      <th>_dt_notificacao</th>\n      <th>_dt_sintomas</th>\n      <th>_classificacao</th>\n      <th>_conclusao</th>\n      <th>_origem</th>\n      <th>_comorb_cardio</th>\n      <th>_comorb_cromossomica</th>\n      <th>_comorb_diabetes</th>\n      <th>_comorb_hemato</th>\n      <th>...</th>\n      <th>_sintoma_tosse</th>\n      <th>_sintoma_outros</th>\n      <th>_srag</th>\n      <th>_teste_anticorpo</th>\n      <th>_teste_antigeno</th>\n      <th>_teste_pcr</th>\n      <th>_bairro</th>\n      <th>_bairro_mapa</th>\n      <th>_distrito</th>\n      <th>_taxa</th>\n    </tr>\n  </thead>\n  <tbody>\n    <tr>\n      <th>130</th>\n      <td>02/03/2020 00:00</td>\n      <td>23/02/2020 00:00</td>\n      <td>15/02/2020 00:00</td>\n      <td>Confirmado</td>\n      <td>Recuperado</td>\n      <td>SIVEP, GAL</td>\n      <td>NaN</td>\n      <td>NaN</td>\n      <td>NaN</td>\n      <td>NaN</td>\n      <td>...</td>\n      <td>Sim</td>\n      <td>Sim</td>\n      <td>SRAG não especificado</td>\n      <td>NaN</td>\n      <td>NaN</td>\n      <td>1.0</td>\n      <td>MAUAZINHO</td>\n      <td>MAUAZINHO</td>\n      <td>LESTE</td>\n      <td>0,35040998</td>\n    </tr>\n    <tr>\n      <th>144</th>\n      <td>01/03/2020 00:00</td>\n      <td>28/02/2020 00:00</td>\n      <td>26/02/2020 00:00</td>\n      <td>Confirmado</td>\n      <td>Recuperado</td>\n      <td>SIVEP, GAL</td>\n      <td>NaN</td>\n      <td>NaN</td>\n      <td>NaN</td>\n      <td>NaN</td>\n      <td>...</td>\n      <td>Sim</td>\n      <td>Sim</td>\n      <td>Vírus Sincicial Respiratório</td>\n      <td>NaN</td>\n      <td>NaN</td>\n      <td>1.0</td>\n      <td>NOVO ALEIXO</td>\n      <td>NOVO ALEIXO</td>\n      <td>NORTE</td>\n      <td>0,085452557</td>\n    </tr>\n    <tr>\n      <th>153</th>\n      <td>05/04/2020 00:00</td>\n      <td>02/03/2020 00:00</td>\n      <td>23/02/2020 00:00</td>\n      <td>Confirmado</td>\n      <td>Recuperado</td>\n      <td>SIVEP, eSUS VE,</td>\n      <td>NaN</td>\n      <td>NaN</td>\n      <td>NaN</td>\n      <td>NaN</td>\n      <td>...</td>\n      <td>Sim</td>\n      <td>Sim</td>\n      <td>SRAG não especificado</td>\n      <td>1.0</td>\n      <td>NaN</td>\n      <td>NaN</td>\n      <td>PRACA 14 DE JANEIRO</td>\n      <td>PRAÇA 14 DE JANEIRO</td>\n      <td>SUL</td>\n      <td>0,861920359</td>\n    </tr>\n    <tr>\n      <th>158</th>\n      <td>14/03/2020 00:00</td>\n      <td>02/03/2020 00:00</td>\n      <td>29/02/2020 00:00</td>\n      <td>Confirmado</td>\n      <td>Recuperado</td>\n      <td>SIVEP, eSUS VE,</td>\n      <td>Sim</td>\n      <td>NaN</td>\n      <td>NaN</td>\n      <td>NaN</td>\n      <td>...</td>\n      <td>Sim</td>\n      <td>Sim</td>\n      <td>SRAG não especificado</td>\n      <td>2.0</td>\n      <td>NaN</td>\n      <td>NaN</td>\n      <td>FLORES</td>\n      <td>FLORES</td>\n      <td>SUL</td>\n      <td>0,198306463</td>\n    </tr>\n    <tr>\n      <th>196</th>\n      <td>14/03/2020 00:00</td>\n      <td>11/03/2020 00:00</td>\n      <td>09/03/2020 00:00</td>\n      <td>Confirmado</td>\n      <td>Recuperado</td>\n      <td>SIVEP, GAL</td>\n      <td>NaN</td>\n      <td>NaN</td>\n      <td>NaN</td>\n      <td>NaN</td>\n      <td>...</td>\n      <td>Sim</td>\n      <td>Sim</td>\n      <td>SRAG não especificado</td>\n      <td>NaN</td>\n      <td>NaN</td>\n      <td>2.0</td>\n      <td>CIDADE NOVA</td>\n      <td>CIDADE NOVA</td>\n      <td>NORTE</td>\n      <td>0,068152389</td>\n    </tr>\n  </tbody>\n</table>\n<p>5 rows × 39 columns</p>\n</div>"
     },
     "metadata": {},
     "execution_count": 88
    }
   ],
   "source": [
    "df_confirmed = raw_data[raw_data['_classificacao'] == 'Confirmado']\n",
    "df_confirmed.head()"
   ]
  },
  {
   "cell_type": "markdown",
   "id": "81407105",
   "metadata": {},
   "source": [
    "## 2.1-1.Quantos atributos descrevem cada exemplo? Quais são eles?"
   ]
  },
  {
   "cell_type": "code",
   "execution_count": 89,
   "id": "88f742fb",
   "metadata": {},
   "outputs": [
    {
     "output_type": "stream",
     "name": "stdout",
     "text": [
      "Dataframe possui 39 atributos.\n"
     ]
    }
   ],
   "source": [
    "quantity_attributes = df_confirmed.shape[1]\n",
    "print(f'Dataframe possui {quantity_attributes} atributos.')"
   ]
  },
  {
   "cell_type": "code",
   "execution_count": 90,
   "id": "737a071f",
   "metadata": {},
   "outputs": [
    {
     "output_type": "execute_result",
     "data": {
      "text/plain": [
       "Atributos            Tipo de dados\n",
       "_dt_evolucao                object\n",
       "_dt_notificacao             object\n",
       "_dt_sintomas                object\n",
       "_classificacao              object\n",
       "_conclusao                  object\n",
       "_origem                     object\n",
       "_comorb_cardio              object\n",
       "_comorb_cromossomica        object\n",
       "_comorb_diabetes            object\n",
       "_comorb_hemato              object\n",
       "_comorb_hepatica            object\n",
       "_comorb_imuno               object\n",
       "_comorb_neurologica         object\n",
       "_comorb_obessidade          object\n",
       "_comorb_renal               object\n",
       "_comorb_respiratoria        object\n",
       "_criterio                   object\n",
       "_etnia                      object\n",
       "_evolução                   object\n",
       "_idade                     float64\n",
       "_faixa etária               object\n",
       "_gestante                   object\n",
       "_profiss_saude              object\n",
       "_raca                       object\n",
       "_se_notificacao            float64\n",
       "_sexo                       object\n",
       "_sintoma_dispneia           object\n",
       "_sintoma_febre              object\n",
       "_sintoma_garganta           object\n",
       "_sintoma_tosse              object\n",
       "_sintoma_outros             object\n",
       "_srag                       object\n",
       "_teste_anticorpo           float64\n",
       "_teste_antigeno            float64\n",
       "_teste_pcr                 float64\n",
       "_bairro                     object\n",
       "_bairro_mapa                object\n",
       "_distrito                   object\n",
       "_taxa                       object"
      ],
      "text/html": "<div>\n<style scoped>\n    .dataframe tbody tr th:only-of-type {\n        vertical-align: middle;\n    }\n\n    .dataframe tbody tr th {\n        vertical-align: top;\n    }\n\n    .dataframe thead th {\n        text-align: right;\n    }\n</style>\n<table border=\"1\" class=\"dataframe\">\n  <thead>\n    <tr style=\"text-align: right;\">\n      <th>Atributos</th>\n      <th>Tipo de dados</th>\n    </tr>\n  </thead>\n  <tbody>\n    <tr>\n      <th>_dt_evolucao</th>\n      <td>object</td>\n    </tr>\n    <tr>\n      <th>_dt_notificacao</th>\n      <td>object</td>\n    </tr>\n    <tr>\n      <th>_dt_sintomas</th>\n      <td>object</td>\n    </tr>\n    <tr>\n      <th>_classificacao</th>\n      <td>object</td>\n    </tr>\n    <tr>\n      <th>_conclusao</th>\n      <td>object</td>\n    </tr>\n    <tr>\n      <th>_origem</th>\n      <td>object</td>\n    </tr>\n    <tr>\n      <th>_comorb_cardio</th>\n      <td>object</td>\n    </tr>\n    <tr>\n      <th>_comorb_cromossomica</th>\n      <td>object</td>\n    </tr>\n    <tr>\n      <th>_comorb_diabetes</th>\n      <td>object</td>\n    </tr>\n    <tr>\n      <th>_comorb_hemato</th>\n      <td>object</td>\n    </tr>\n    <tr>\n      <th>_comorb_hepatica</th>\n      <td>object</td>\n    </tr>\n    <tr>\n      <th>_comorb_imuno</th>\n      <td>object</td>\n    </tr>\n    <tr>\n      <th>_comorb_neurologica</th>\n      <td>object</td>\n    </tr>\n    <tr>\n      <th>_comorb_obessidade</th>\n      <td>object</td>\n    </tr>\n    <tr>\n      <th>_comorb_renal</th>\n      <td>object</td>\n    </tr>\n    <tr>\n      <th>_comorb_respiratoria</th>\n      <td>object</td>\n    </tr>\n    <tr>\n      <th>_criterio</th>\n      <td>object</td>\n    </tr>\n    <tr>\n      <th>_etnia</th>\n      <td>object</td>\n    </tr>\n    <tr>\n      <th>_evolução</th>\n      <td>object</td>\n    </tr>\n    <tr>\n      <th>_idade</th>\n      <td>float64</td>\n    </tr>\n    <tr>\n      <th>_faixa etária</th>\n      <td>object</td>\n    </tr>\n    <tr>\n      <th>_gestante</th>\n      <td>object</td>\n    </tr>\n    <tr>\n      <th>_profiss_saude</th>\n      <td>object</td>\n    </tr>\n    <tr>\n      <th>_raca</th>\n      <td>object</td>\n    </tr>\n    <tr>\n      <th>_se_notificacao</th>\n      <td>float64</td>\n    </tr>\n    <tr>\n      <th>_sexo</th>\n      <td>object</td>\n    </tr>\n    <tr>\n      <th>_sintoma_dispneia</th>\n      <td>object</td>\n    </tr>\n    <tr>\n      <th>_sintoma_febre</th>\n      <td>object</td>\n    </tr>\n    <tr>\n      <th>_sintoma_garganta</th>\n      <td>object</td>\n    </tr>\n    <tr>\n      <th>_sintoma_tosse</th>\n      <td>object</td>\n    </tr>\n    <tr>\n      <th>_sintoma_outros</th>\n      <td>object</td>\n    </tr>\n    <tr>\n      <th>_srag</th>\n      <td>object</td>\n    </tr>\n    <tr>\n      <th>_teste_anticorpo</th>\n      <td>float64</td>\n    </tr>\n    <tr>\n      <th>_teste_antigeno</th>\n      <td>float64</td>\n    </tr>\n    <tr>\n      <th>_teste_pcr</th>\n      <td>float64</td>\n    </tr>\n    <tr>\n      <th>_bairro</th>\n      <td>object</td>\n    </tr>\n    <tr>\n      <th>_bairro_mapa</th>\n      <td>object</td>\n    </tr>\n    <tr>\n      <th>_distrito</th>\n      <td>object</td>\n    </tr>\n    <tr>\n      <th>_taxa</th>\n      <td>object</td>\n    </tr>\n  </tbody>\n</table>\n</div>"
     },
     "metadata": {},
     "execution_count": 90
    }
   ],
   "source": [
    "attributes = pd.DataFrame(df_confirmed.dtypes, columns=['Tipo de dados'])\n",
    "attributes.columns.name = 'Atributos'\n",
    "attributes"
   ]
  },
  {
   "source": [
    "## 2.1-2.Quantos casos confirmados há em Manaus, cumulativamente?"
   ],
   "cell_type": "markdown",
   "metadata": {}
  },
  {
   "cell_type": "code",
   "execution_count": 91,
   "metadata": {},
   "outputs": [
    {
     "output_type": "stream",
     "name": "stdout",
     "text": [
      "80420 casos confirmados em Manaus.\n"
     ]
    }
   ],
   "source": [
    "confirmed_cases = df_confirmed.shape[0]\n",
    "print(f'{confirmed_cases} casos confirmados em Manaus.')"
   ]
  },
  {
   "source": [
    "## 2.1-3.A qual período de tempo a base de dados se refere, isto é, qual o registro mais antigo e qual o mais recente? Leve em conta a data de notificação."
   ],
   "cell_type": "markdown",
   "metadata": {}
  },
  {
   "cell_type": "code",
   "execution_count": 104,
   "metadata": {},
   "outputs": [],
   "source": [
    "df_confirmed_notification = pd.DataFrame(df_confirmed['_dt_notificacao'])"
   ]
  },
  {
   "cell_type": "code",
   "execution_count": 105,
   "metadata": {},
   "outputs": [
    {
     "output_type": "execute_result",
     "data": {
      "text/plain": [
       "         _dt_notificacao\n",
       "130     23/02/2020 00:00\n",
       "144     28/02/2020 00:00\n",
       "153     02/03/2020 00:00\n",
       "158     02/03/2020 00:00\n",
       "196     11/03/2020 00:00\n",
       "...                  ...\n",
       "243970  31/03/2020 00:00\n",
       "243973  07/04/2020 00:00\n",
       "243977  15/04/2020 00:00\n",
       "243979  20/04/2020 00:00\n",
       "243982  22/04/2020 00:00\n",
       "\n",
       "[80420 rows x 1 columns]"
      ],
      "text/html": "<div>\n<style scoped>\n    .dataframe tbody tr th:only-of-type {\n        vertical-align: middle;\n    }\n\n    .dataframe tbody tr th {\n        vertical-align: top;\n    }\n\n    .dataframe thead th {\n        text-align: right;\n    }\n</style>\n<table border=\"1\" class=\"dataframe\">\n  <thead>\n    <tr style=\"text-align: right;\">\n      <th></th>\n      <th>_dt_notificacao</th>\n    </tr>\n  </thead>\n  <tbody>\n    <tr>\n      <th>130</th>\n      <td>23/02/2020 00:00</td>\n    </tr>\n    <tr>\n      <th>144</th>\n      <td>28/02/2020 00:00</td>\n    </tr>\n    <tr>\n      <th>153</th>\n      <td>02/03/2020 00:00</td>\n    </tr>\n    <tr>\n      <th>158</th>\n      <td>02/03/2020 00:00</td>\n    </tr>\n    <tr>\n      <th>196</th>\n      <td>11/03/2020 00:00</td>\n    </tr>\n    <tr>\n      <th>...</th>\n      <td>...</td>\n    </tr>\n    <tr>\n      <th>243970</th>\n      <td>31/03/2020 00:00</td>\n    </tr>\n    <tr>\n      <th>243973</th>\n      <td>07/04/2020 00:00</td>\n    </tr>\n    <tr>\n      <th>243977</th>\n      <td>15/04/2020 00:00</td>\n    </tr>\n    <tr>\n      <th>243979</th>\n      <td>20/04/2020 00:00</td>\n    </tr>\n    <tr>\n      <th>243982</th>\n      <td>22/04/2020 00:00</td>\n    </tr>\n  </tbody>\n</table>\n<p>80420 rows × 1 columns</p>\n</div>"
     },
     "metadata": {},
     "execution_count": 105
    }
   ],
   "source": [
    "df_confirmed_notification"
   ]
  },
  {
   "cell_type": "code",
   "execution_count": 101,
   "metadata": {},
   "outputs": [
    {
     "output_type": "stream",
     "name": "stdout",
     "text": [
      "Registro mais antigo: _dt_notificacao   2020-01-04\nName: 125025, dtype: datetime64[ns]\nRegistro mais recente: _dt_notificacao   NaT\nName: 189035, dtype: datetime64[ns]\n"
     ]
    }
   ],
   "source": [
    "print(f'Registro mais antigo: {older_case}')\n",
    "print(f'Registro mais recente: {younger_case}')"
   ]
  },
  {
   "cell_type": "code",
   "execution_count": 103,
   "metadata": {},
   "outputs": [
    {
     "output_type": "execute_result",
     "data": {
      "text/plain": [
       "         _dt_notificacao\n",
       "130     23/02/2020 00:00\n",
       "144     28/02/2020 00:00\n",
       "153     02/03/2020 00:00\n",
       "158     02/03/2020 00:00\n",
       "196     11/03/2020 00:00\n",
       "...                  ...\n",
       "243970  31/03/2020 00:00\n",
       "243973  07/04/2020 00:00\n",
       "243977  15/04/2020 00:00\n",
       "243979  20/04/2020 00:00\n",
       "243982  22/04/2020 00:00\n",
       "\n",
       "[80420 rows x 1 columns]"
      ],
      "text/html": "<div>\n<style scoped>\n    .dataframe tbody tr th:only-of-type {\n        vertical-align: middle;\n    }\n\n    .dataframe tbody tr th {\n        vertical-align: top;\n    }\n\n    .dataframe thead th {\n        text-align: right;\n    }\n</style>\n<table border=\"1\" class=\"dataframe\">\n  <thead>\n    <tr style=\"text-align: right;\">\n      <th></th>\n      <th>_dt_notificacao</th>\n    </tr>\n  </thead>\n  <tbody>\n    <tr>\n      <th>130</th>\n      <td>23/02/2020 00:00</td>\n    </tr>\n    <tr>\n      <th>144</th>\n      <td>28/02/2020 00:00</td>\n    </tr>\n    <tr>\n      <th>153</th>\n      <td>02/03/2020 00:00</td>\n    </tr>\n    <tr>\n      <th>158</th>\n      <td>02/03/2020 00:00</td>\n    </tr>\n    <tr>\n      <th>196</th>\n      <td>11/03/2020 00:00</td>\n    </tr>\n    <tr>\n      <th>...</th>\n      <td>...</td>\n    </tr>\n    <tr>\n      <th>243970</th>\n      <td>31/03/2020 00:00</td>\n    </tr>\n    <tr>\n      <th>243973</th>\n      <td>07/04/2020 00:00</td>\n    </tr>\n    <tr>\n      <th>243977</th>\n      <td>15/04/2020 00:00</td>\n    </tr>\n    <tr>\n      <th>243979</th>\n      <td>20/04/2020 00:00</td>\n    </tr>\n    <tr>\n      <th>243982</th>\n      <td>22/04/2020 00:00</td>\n    </tr>\n  </tbody>\n</table>\n<p>80420 rows × 1 columns</p>\n</div>"
     },
     "metadata": {},
     "execution_count": 103
    }
   ],
   "source": []
  },
  {
   "cell_type": "code",
   "execution_count": null,
   "metadata": {},
   "outputs": [],
   "source": []
  }
 ],
 "metadata": {
  "kernelspec": {
   "name": "python3",
   "display_name": "Python 3.8.11 64-bit ('rna': conda)"
  },
  "language_info": {
   "codemirror_mode": {
    "name": "ipython",
    "version": 3
   },
   "file_extension": ".py",
   "mimetype": "text/x-python",
   "name": "python",
   "nbconvert_exporter": "python",
   "pygments_lexer": "ipython3",
   "version": "3.8.11"
  },
  "interpreter": {
   "hash": "810ca3a76d7cc867501caa1d480b027a0c4117bc496204715cde117464dcb849"
  }
 },
 "nbformat": 4,
 "nbformat_minor": 5
}