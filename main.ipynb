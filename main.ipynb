{
 "cells": [
  {
   "cell_type": "code",
   "execution_count": 90,
   "id": "d744dd29",
   "metadata": {},
   "outputs": [],
   "source": [
    "import pandas as pd\n",
    "import numpy as np\n",
    "import openpyxl\n",
    "import re\n",
    "import seaborn as sns\n",
    "import matplotlib.pyplot as plt"
   ]
  },
  {
   "cell_type": "code",
   "execution_count": 91,
   "id": "18270fe9",
   "metadata": {},
   "outputs": [
    {
     "data": {
      "text/html": [
       "<div>\n",
       "<style scoped>\n",
       "    .dataframe tbody tr th:only-of-type {\n",
       "        vertical-align: middle;\n",
       "    }\n",
       "\n",
       "    .dataframe tbody tr th {\n",
       "        vertical-align: top;\n",
       "    }\n",
       "\n",
       "    .dataframe thead th {\n",
       "        text-align: right;\n",
       "    }\n",
       "</style>\n",
       "<table border=\"1\" class=\"dataframe\">\n",
       "  <thead>\n",
       "    <tr style=\"text-align: right;\">\n",
       "      <th></th>\n",
       "      <th>_dt_evolucao</th>\n",
       "      <th>_dt_notificacao</th>\n",
       "      <th>_dt_sintomas</th>\n",
       "      <th>_classificacao</th>\n",
       "      <th>_conclusao</th>\n",
       "      <th>_origem</th>\n",
       "      <th>_comorb_cardio</th>\n",
       "      <th>_comorb_cromossomica</th>\n",
       "      <th>_comorb_diabetes</th>\n",
       "      <th>_comorb_hemato</th>\n",
       "      <th>...</th>\n",
       "      <th>_sintoma_tosse</th>\n",
       "      <th>_sintoma_outros</th>\n",
       "      <th>_srag</th>\n",
       "      <th>_teste_anticorpo</th>\n",
       "      <th>_teste_antigeno</th>\n",
       "      <th>_teste_pcr</th>\n",
       "      <th>_bairro</th>\n",
       "      <th>_bairro_mapa</th>\n",
       "      <th>_distrito</th>\n",
       "      <th>_taxa</th>\n",
       "    </tr>\n",
       "  </thead>\n",
       "  <tbody>\n",
       "    <tr>\n",
       "      <th>0</th>\n",
       "      <td>25/01/2020 00:00</td>\n",
       "      <td>03/01/2020 00:00</td>\n",
       "      <td>01/01/2020 00:00</td>\n",
       "      <td>Descartado</td>\n",
       "      <td>Recuperado</td>\n",
       "      <td>SIVEP,</td>\n",
       "      <td>NaN</td>\n",
       "      <td>NaN</td>\n",
       "      <td>NaN</td>\n",
       "      <td>NaN</td>\n",
       "      <td>...</td>\n",
       "      <td>Sim</td>\n",
       "      <td>Sim</td>\n",
       "      <td>SRAG não especificado</td>\n",
       "      <td>NaN</td>\n",
       "      <td>NaN</td>\n",
       "      <td>NaN</td>\n",
       "      <td>TARUMA</td>\n",
       "      <td>TARUMÃ</td>\n",
       "      <td>OESTE</td>\n",
       "      <td>0,243042897</td>\n",
       "    </tr>\n",
       "    <tr>\n",
       "      <th>1</th>\n",
       "      <td>03/01/2020 00:00</td>\n",
       "      <td>03/01/2020 00:00</td>\n",
       "      <td>01/01/2020 00:00</td>\n",
       "      <td>Descartado</td>\n",
       "      <td>Óbito</td>\n",
       "      <td>SIVEP,</td>\n",
       "      <td>NaN</td>\n",
       "      <td>NaN</td>\n",
       "      <td>NaN</td>\n",
       "      <td>NaN</td>\n",
       "      <td>...</td>\n",
       "      <td>Sim</td>\n",
       "      <td>Sim</td>\n",
       "      <td>Influenza B</td>\n",
       "      <td>NaN</td>\n",
       "      <td>NaN</td>\n",
       "      <td>NaN</td>\n",
       "      <td>TARUMA-ACU</td>\n",
       "      <td>TARUMÃ-AÇÚ</td>\n",
       "      <td>OESTE</td>\n",
       "      <td>0,684931507</td>\n",
       "    </tr>\n",
       "    <tr>\n",
       "      <th>2</th>\n",
       "      <td>05/01/2020 00:00</td>\n",
       "      <td>03/01/2020 00:00</td>\n",
       "      <td>03/01/2020 00:00</td>\n",
       "      <td>Descartado</td>\n",
       "      <td>Óbito</td>\n",
       "      <td>SIVEP,</td>\n",
       "      <td>NaN</td>\n",
       "      <td>NaN</td>\n",
       "      <td>NaN</td>\n",
       "      <td>NaN</td>\n",
       "      <td>...</td>\n",
       "      <td>Sim</td>\n",
       "      <td>Sim</td>\n",
       "      <td>SRAG não especificado</td>\n",
       "      <td>NaN</td>\n",
       "      <td>NaN</td>\n",
       "      <td>NaN</td>\n",
       "      <td>JORGE TEIXEIRA</td>\n",
       "      <td>JORGE TEIXEIRA</td>\n",
       "      <td>LESTE</td>\n",
       "      <td>0,073137374</td>\n",
       "    </tr>\n",
       "    <tr>\n",
       "      <th>3</th>\n",
       "      <td>16/01/2020 00:00</td>\n",
       "      <td>08/01/2020 00:00</td>\n",
       "      <td>04/01/2020 00:00</td>\n",
       "      <td>Descartado</td>\n",
       "      <td>Óbito</td>\n",
       "      <td>SIVEP,</td>\n",
       "      <td>NaN</td>\n",
       "      <td>NaN</td>\n",
       "      <td>NaN</td>\n",
       "      <td>NaN</td>\n",
       "      <td>...</td>\n",
       "      <td>Sim</td>\n",
       "      <td>Sim</td>\n",
       "      <td>SRAG não especificado</td>\n",
       "      <td>NaN</td>\n",
       "      <td>NaN</td>\n",
       "      <td>NaN</td>\n",
       "      <td>FLORES</td>\n",
       "      <td>FLORES</td>\n",
       "      <td>SUL</td>\n",
       "      <td>0,198306463</td>\n",
       "    </tr>\n",
       "    <tr>\n",
       "      <th>4</th>\n",
       "      <td>11/01/2020 00:00</td>\n",
       "      <td>08/01/2020 00:00</td>\n",
       "      <td>05/01/2020 00:00</td>\n",
       "      <td>Descartado</td>\n",
       "      <td>Recuperado</td>\n",
       "      <td>SIVEP,</td>\n",
       "      <td>NaN</td>\n",
       "      <td>NaN</td>\n",
       "      <td>NaN</td>\n",
       "      <td>NaN</td>\n",
       "      <td>...</td>\n",
       "      <td>Sim</td>\n",
       "      <td>Sim</td>\n",
       "      <td>SRAG não especificado</td>\n",
       "      <td>NaN</td>\n",
       "      <td>NaN</td>\n",
       "      <td>NaN</td>\n",
       "      <td>CIDADE DE DEUS</td>\n",
       "      <td>CIDADE DE DEUS</td>\n",
       "      <td>NORTE</td>\n",
       "      <td>0,117699678</td>\n",
       "    </tr>\n",
       "  </tbody>\n",
       "</table>\n",
       "<p>5 rows × 39 columns</p>\n",
       "</div>"
      ],
      "text/plain": [
       "       _dt_evolucao   _dt_notificacao      _dt_sintomas _classificacao  \\\n",
       "0  25/01/2020 00:00  03/01/2020 00:00  01/01/2020 00:00     Descartado   \n",
       "1  03/01/2020 00:00  03/01/2020 00:00  01/01/2020 00:00     Descartado   \n",
       "2  05/01/2020 00:00  03/01/2020 00:00  03/01/2020 00:00     Descartado   \n",
       "3  16/01/2020 00:00  08/01/2020 00:00  04/01/2020 00:00     Descartado   \n",
       "4  11/01/2020 00:00  08/01/2020 00:00  05/01/2020 00:00     Descartado   \n",
       "\n",
       "   _conclusao  _origem _comorb_cardio _comorb_cromossomica _comorb_diabetes  \\\n",
       "0  Recuperado  SIVEP,             NaN                  NaN              NaN   \n",
       "1       Óbito  SIVEP,             NaN                  NaN              NaN   \n",
       "2       Óbito  SIVEP,             NaN                  NaN              NaN   \n",
       "3       Óbito  SIVEP,             NaN                  NaN              NaN   \n",
       "4  Recuperado  SIVEP,             NaN                  NaN              NaN   \n",
       "\n",
       "  _comorb_hemato  ... _sintoma_tosse _sintoma_outros                  _srag  \\\n",
       "0            NaN  ...            Sim             Sim  SRAG não especificado   \n",
       "1            NaN  ...            Sim             Sim            Influenza B   \n",
       "2            NaN  ...            Sim             Sim  SRAG não especificado   \n",
       "3            NaN  ...            Sim             Sim  SRAG não especificado   \n",
       "4            NaN  ...            Sim             Sim  SRAG não especificado   \n",
       "\n",
       "  _teste_anticorpo _teste_antigeno _teste_pcr         _bairro    _bairro_mapa  \\\n",
       "0              NaN             NaN        NaN          TARUMA          TARUMÃ   \n",
       "1              NaN             NaN        NaN      TARUMA-ACU      TARUMÃ-AÇÚ   \n",
       "2              NaN             NaN        NaN  JORGE TEIXEIRA  JORGE TEIXEIRA   \n",
       "3              NaN             NaN        NaN          FLORES          FLORES   \n",
       "4              NaN             NaN        NaN  CIDADE DE DEUS  CIDADE DE DEUS   \n",
       "\n",
       "  _distrito        _taxa  \n",
       "0     OESTE  0,243042897  \n",
       "1     OESTE  0,684931507  \n",
       "2     LESTE  0,073137374  \n",
       "3       SUL  0,198306463  \n",
       "4     NORTE  0,117699678  \n",
       "\n",
       "[5 rows x 39 columns]"
      ]
     },
     "execution_count": 91,
     "metadata": {},
     "output_type": "execute_result"
    }
   ],
   "source": [
    "raw_data = pd.read_csv(\"manaus.csv\", sep=\";\", low_memory=False)\n",
    "raw_data.head()"
   ]
  },
  {
   "cell_type": "code",
   "execution_count": 92,
   "id": "a47a4d32",
   "metadata": {},
   "outputs": [],
   "source": [
    "df_confirmed = raw_data[raw_data['_classificacao'] == 'Confirmado']\n"
   ]
  },
  {
   "cell_type": "markdown",
   "id": "81407105",
   "metadata": {},
   "source": [
    "## 2.1-1.Quantos atributos descrevem cada exemplo? Quais são eles?"
   ]
  },
  {
   "cell_type": "code",
   "execution_count": 93,
   "id": "88f742fb",
   "metadata": {},
   "outputs": [
    {
     "name": "stdout",
     "output_type": "stream",
     "text": [
      "Dataframe possui 39 atributos.\n"
     ]
    }
   ],
   "source": [
    "quantity_attributes = df_confirmed.shape[1]\n",
    "print(f'Dataframe possui {quantity_attributes} atributos.')"
   ]
  },
  {
   "cell_type": "code",
   "execution_count": 94,
   "id": "737a071f",
   "metadata": {},
   "outputs": [
    {
     "name": "stdout",
     "output_type": "stream",
     "text": [
      "Lista de atributos que descrevem cada exemplo, sendo eles:\n"
     ]
    }
   ],
   "source": [
    "print(f'Lista de atributos que descrevem cada exemplo, sendo eles:')\n",
    "attributes = []\n",
    "for att in df_confirmed.columns.to_numpy():\n",
    "    attributes.append(att)"
   ]
  },
  {
   "cell_type": "markdown",
   "id": "73b343ec",
   "metadata": {},
   "source": [
    "## 2.1-2.Quantos casos confirmados há em Manaus, cumulativamente?"
   ]
  },
  {
   "cell_type": "code",
   "execution_count": 95,
   "id": "eff2a87e",
   "metadata": {},
   "outputs": [
    {
     "name": "stdout",
     "output_type": "stream",
     "text": [
      "80420 casos confirmados em Manaus.\n"
     ]
    }
   ],
   "source": [
    "confirmed_cases = df_confirmed.shape[0]\n",
    "print(f'{confirmed_cases} casos confirmados em Manaus.')"
   ]
  },
  {
   "cell_type": "markdown",
   "id": "b5df3e19",
   "metadata": {},
   "source": [
    "## 2.1-3.A qual período de tempo a base de dados se refere, isto é, qual o registro mais antigo e qual o mais recente? Leve em conta a data de notificação."
   ]
  },
  {
   "cell_type": "code",
   "execution_count": 96,
   "id": "5cfb93cd",
   "metadata": {},
   "outputs": [
    {
     "name": "stderr",
     "output_type": "stream",
     "text": [
      "C:\\Users\\LudusLab\\AppData\\Local\\Temp/ipykernel_2812/3531587872.py:1: SettingWithCopyWarning: \n",
      "A value is trying to be set on a copy of a slice from a DataFrame.\n",
      "Try using .loc[row_indexer,col_indexer] = value instead\n",
      "\n",
      "See the caveats in the documentation: https://pandas.pydata.org/pandas-docs/stable/user_guide/indexing.html#returning-a-view-versus-a-copy\n",
      "  df_confirmed['_dt_notificacao'] = pd.to_datetime(df_confirmed['_dt_notificacao'], format='%d/%m/%Y %H:%M')\n"
     ]
    }
   ],
   "source": [
    "df_confirmed['_dt_notificacao'] = pd.to_datetime(df_confirmed['_dt_notificacao'], format='%d/%m/%Y %H:%M')\n",
    "array_dates = np.sort(df_confirmed['_dt_notificacao'].dropna().dt.strftime('%m/%d/%Y'))\n",
    "first_date = pd.to_datetime(array_dates[0]).strftime(\"%d/%m/%y\")\n",
    "last_date = pd.to_datetime(array_dates[-1]).strftime(\"%d/%m/%y\")"
   ]
  },
  {
   "cell_type": "code",
   "execution_count": 97,
   "id": "1793944f",
   "metadata": {},
   "outputs": [
    {
     "name": "stdout",
     "output_type": "stream",
     "text": [
      "Registro mais antigo é 16/02/20\n",
      "Registro mais recente é 29/12/20\n"
     ]
    }
   ],
   "source": [
    "print(f'Registro mais antigo é {first_date}')\n",
    "print(f'Registro mais recente é {last_date}')"
   ]
  },
  {
   "cell_type": "markdown",
   "id": "fb4af3c7-cb41-4749-a6f0-ee777b012dcc",
   "metadata": {},
   "source": [
    "## Limpeza dos Dados"
   ]
  },
  {
   "cell_type": "markdown",
   "id": "b7cfc8d6-0b3a-4bea-8952-7d8213aa92d3",
   "metadata": {},
   "source": [
    "### Excluir atributos não relevantes"
   ]
  },
  {
   "cell_type": "code",
   "execution_count": 98,
   "id": "eb3d243d-6bb9-4c6e-9cad-e7735f958bbf",
   "metadata": {},
   "outputs": [],
   "source": [
    "discarded_data = []\n",
    "def clear_data():\n",
    "    for att in attributes:\n",
    "        if att != '_dt_notificacao' and att != '_classificacao' and att != '_conclusao' and att != '_criterio' and att != '_evolução' and att != '_idade' and att != '_faixa etária' and att != '_sexo' and att != '_teste_anticorpo' and att != '_teste_antigeno' and att != '_teste_pcr' and att != '_bairro' and att != '_taxa':\n",
    "                discarded_data.append(att)\n",
    "\n",
    "clear_data()"
   ]
  },
  {
   "cell_type": "code",
   "execution_count": 99,
   "id": "5350e840-70c3-4231-9125-1403b34103ae",
   "metadata": {},
   "outputs": [],
   "source": [
    "df_confirmed = df_confirmed.drop(discarded_data,axis=1)"
   ]
  },
  {
   "cell_type": "markdown",
   "id": "483fe328-97c4-44b2-8aea-ed678642ce68",
   "metadata": {},
   "source": [
    "### Excluir linhas de dados faltantes"
   ]
  },
  {
   "cell_type": "markdown",
   "id": "cde7b3d4-58d6-4e25-ae0d-877e2c4cf119",
   "metadata": {},
   "source": [
    "### !O valor zero foi atribuído nas colunas dos testes que o paciente não realizou.!"
   ]
  },
  {
   "cell_type": "code",
   "execution_count": 100,
   "id": "8eab08eb-0e4d-454b-835e-55e037f8ac9f",
   "metadata": {},
   "outputs": [],
   "source": [
    "df_confirmed['_teste_anticorpo'] = df_confirmed['_teste_anticorpo'].fillna(0)\n",
    "df_confirmed['_teste_antigeno'] = df_confirmed['_teste_antigeno'].fillna(0)\n",
    "df_confirmed['_teste_pcr']= df_confirmed['_teste_pcr'].fillna(0)"
   ]
  },
  {
   "cell_type": "code",
   "execution_count": 101,
   "id": "e3fac940-043d-407b-830e-059b5a765a97",
   "metadata": {},
   "outputs": [],
   "source": [
    "df_clean_data = df_confirmed.dropna()"
   ]
  },
  {
   "cell_type": "markdown",
   "id": "8818bb60-016b-4f61-b067-c227f7185b0e",
   "metadata": {},
   "source": [
    "## 1. Quantos exemplos e atributos há na base de dados após a limpeza e organização?"
   ]
  },
  {
   "cell_type": "code",
   "execution_count": 102,
   "id": "cf9eafb7-9117-4000-a70a-e2da95975ffc",
   "metadata": {},
   "outputs": [
    {
     "name": "stdout",
     "output_type": "stream",
     "text": [
      "A base de dados restante possui 7645 registros.\n"
     ]
    }
   ],
   "source": [
    "remaining_data = df_clean_data.shape[0]\n",
    "print(f'A base de dados restante possui {remaining_data} registros.')"
   ]
  },
  {
   "cell_type": "code",
   "execution_count": 103,
   "id": "c712df38-b04a-499a-a527-f07a63008317",
   "metadata": {},
   "outputs": [
    {
     "name": "stdout",
     "output_type": "stream",
     "text": [
      "A base de dados restante possui 13 atributos.\n"
     ]
    }
   ],
   "source": [
    "remaining_data_att = df_clean_data.shape[1]\n",
    "print(f'A base de dados restante possui {remaining_data_att} atributos.')"
   ]
  },
  {
   "cell_type": "markdown",
   "id": "9c40a062-c618-45f1-8f3a-65edc60d89a6",
   "metadata": {},
   "source": [
    "## 2. Qual a porcentagem de indivíduos recuperados em relação ao todo?"
   ]
  },
  {
   "cell_type": "code",
   "execution_count": 104,
   "id": "95b1716f-561a-4ce9-a520-12cd163e62f4",
   "metadata": {},
   "outputs": [],
   "source": [
    "recovered_patients = df_clean_data[df_clean_data['_conclusao'] == 'Recuperado'].shape[0]\n",
    "total_patients = df_clean_data.shape[0]"
   ]
  },
  {
   "cell_type": "code",
   "execution_count": 105,
   "id": "e4635b28-0523-4426-9d46-d578dd370ce5",
   "metadata": {},
   "outputs": [],
   "source": [
    "percentage_recovered_patients = (recovered_patients/total_patients)*100\n",
    "percentage_recovered_patients = np.round(percentage_recovered_patients, 3)"
   ]
  },
  {
   "cell_type": "code",
   "execution_count": 106,
   "id": "bba6f603-410e-4a2e-8c81-2a4f0aba2246",
   "metadata": {},
   "outputs": [
    {
     "name": "stdout",
     "output_type": "stream",
     "text": [
      "A porcentagem de indivíduos recuperados é de 58.496%.\n"
     ]
    }
   ],
   "source": [
    "print(f'A porcentagem de indivíduos recuperados é de {percentage_recovered_patients}%.')"
   ]
  },
  {
   "cell_type": "markdown",
   "id": "e08a8c40-f560-4837-a3f9-248f75d9c437",
   "metadata": {},
   "source": [
    "## 3. Os casos acometeram mais indivíduos do sexo masculino ou feminino?"
   ]
  },
  {
   "cell_type": "code",
   "execution_count": 107,
   "id": "80de6be6-6066-47e1-a816-63db24a8e0a5",
   "metadata": {},
   "outputs": [
    {
     "name": "stdout",
     "output_type": "stream",
     "text": [
      "Sexo Masculino, com 4408 casos\n"
     ]
    }
   ],
   "source": [
    "count_F = df_clean_data.groupby(['_sexo']).size()['F']\n",
    "count_M = df_clean_data.groupby(['_sexo']).size()['M']\n",
    "print(f\"Sexo Feminino, com {count_F} casos\" if count_F > count_M else f\"Sexo Masculino, com {count_M} casos\")"
   ]
  },
  {
   "cell_type": "markdown",
   "id": "5dac9a33",
   "metadata": {},
   "source": [
    "## 4.1 Qual a média e desvio padrão de idade dos indivíduos que contraíram COVID-19? "
   ]
  },
  {
   "cell_type": "code",
   "execution_count": 108,
   "id": "3743c817",
   "metadata": {},
   "outputs": [],
   "source": [
    "individuals_age_mean = df_clean_data['_idade'].mean()\n",
    "individuals_age_std = df_clean_data['_idade'].std()"
   ]
  },
  {
   "cell_type": "code",
   "execution_count": 109,
   "id": "6a3a3af4",
   "metadata": {},
   "outputs": [
    {
     "name": "stdout",
     "output_type": "stream",
     "text": [
      "Média de idades dos indivíduos é 56.29 anos.\n",
      "O desvio padrão de idades dos indivíduos é 20.84.\n"
     ]
    }
   ],
   "source": [
    "print(f'Média de idades dos indivíduos é {round(individuals_age_mean,2)} anos.')\n",
    "print(f'O desvio padrão de idades dos indivíduos é {round(individuals_age_std,2)}.')"
   ]
  },
  {
   "cell_type": "markdown",
   "id": "e332df60",
   "metadata": {},
   "source": [
    "## 4.2 Qual o indivíduo mais jovem e o mais idoso a contraírem tal enfermidade?"
   ]
  },
  {
   "cell_type": "code",
   "execution_count": 110,
   "id": "2fef0e42",
   "metadata": {},
   "outputs": [],
   "source": [
    "older_individual = df_clean_data['_idade'].max()\n",
    "younger_individual = df_clean_data['_idade'].min()"
   ]
  },
  {
   "cell_type": "code",
   "execution_count": 111,
   "id": "b065dba3",
   "metadata": {},
   "outputs": [
    {
     "name": "stdout",
     "output_type": "stream",
     "text": [
      "O indivíduo mais idoso a contrair a enfermidade: 106.0 anos\n",
      "O indivíduo mais jovem a contrair a enfermidade: 0.0 anos\n"
     ]
    }
   ],
   "source": [
    "print(f'O indivíduo mais idoso a contrair a enfermidade: {older_individual} anos')\n",
    "print(f'O indivíduo mais jovem a contrair a enfermidade: {younger_individual} anos')"
   ]
  },
  {
   "cell_type": "markdown",
   "id": "949dfcc4",
   "metadata": {},
   "source": [
    "## 5. Qual o bairro com maior incidência de casos?"
   ]
  },
  {
   "cell_type": "code",
   "execution_count": 112,
   "id": "388def92",
   "metadata": {},
   "outputs": [],
   "source": [
    "neighborhoods = pd.DataFrame(df_clean_data['_bairro'])"
   ]
  },
  {
   "cell_type": "markdown",
   "id": "a5b664a6",
   "metadata": {},
   "source": [
    "### Criei padrões regex para cada letra com acentos(a, e, i, o, u e ç), passei como parâmetro para uma função que busca o padrão desejado e qual deve ser o caractere para substituição, utilizando a compressão de lista para percorrer cada lista gerada a cada letra limpa."
   ]
  },
  {
   "cell_type": "code",
   "execution_count": 113,
   "id": "9803b495",
   "metadata": {},
   "outputs": [],
   "source": [
    "def clear_data(data, pattern, sub):\n",
    "    pattern_letter = re.compile(pattern)\n",
    "\n",
    "    result = re.sub(pattern_letter, sub, data, 5)\n",
    "    return result"
   ]
  },
  {
   "cell_type": "code",
   "execution_count": 114,
   "id": "63d17b26",
   "metadata": {},
   "outputs": [],
   "source": [
    "raw_neighborhoods = neighborhoods['_bairro']\n",
    "clear_a = [clear_data(x, r\"^[áàâã]$\", \"a\") for x in raw_neighborhoods]\n",
    "clear_e = [clear_data(x, r\"^[éê]$\", \"e\") for x in clear_a]\n",
    "clear_i = [clear_data(x, r\"^[í]$\", \"i\") for x in clear_e]\n",
    "clear_o = [clear_data(x, r\"^[óôòõ]$\", \"o\") for x in clear_i]\n",
    "clear_u = [clear_data(x, r\"^[ú]$\", \"u\") for x in clear_o]\n",
    "clear_c = [clear_data(x, r\"^[ç]$\", \"c\") for x in clear_u]\n",
    "df_neighborhoods_clean = pd.DataFrame(clear_c, columns = [\"_bairro\"])"
   ]
  },
  {
   "cell_type": "code",
   "execution_count": 115,
   "id": "df570a13",
   "metadata": {},
   "outputs": [],
   "source": [
    "higher_incidence_neighborhood = df_neighborhoods_clean.groupby(by ='_bairro').size().idxmax()"
   ]
  },
  {
   "cell_type": "code",
   "execution_count": 116,
   "id": "96c7b0f7",
   "metadata": {},
   "outputs": [],
   "source": [
    "number_cases = df_neighborhoods_clean.groupby(by ='_bairro').size().max()"
   ]
  },
  {
   "cell_type": "code",
   "execution_count": 117,
   "id": "b2783c23",
   "metadata": {},
   "outputs": [
    {
     "name": "stdout",
     "output_type": "stream",
     "text": [
      "O bairro com maior incidência de casos foi CIDADE NOVA com 480 casos confirmados.\n"
     ]
    }
   ],
   "source": [
    "print (f'O bairro com maior incidência de casos foi {higher_incidence_neighborhood} com {number_cases} casos confirmados.')"
   ]
  },
  {
   "cell_type": "markdown",
   "id": "a7977240",
   "metadata": {},
   "source": [
    "## 6 - Quais os três bairros com maior incidência de casos recuperados?"
   ]
  },
  {
   "cell_type": "code",
   "execution_count": 118,
   "id": "3c59dae5",
   "metadata": {},
   "outputs": [],
   "source": [
    "select = df_clean_data._conclusao == 'Recuperado'\n",
    "recovered = df_clean_data[select]"
   ]
  },
  {
   "cell_type": "code",
   "execution_count": 119,
   "id": "53eed9d6",
   "metadata": {},
   "outputs": [],
   "source": [
    "neighborhood_1 = recovered._bairro.value_counts().index[0]\n",
    "neighborhood_2 = recovered._bairro.value_counts().index[1]\n",
    "neighborhood_3 = recovered._bairro.value_counts().index[2]"
   ]
  },
  {
   "cell_type": "code",
   "execution_count": 120,
   "id": "b523c37b",
   "metadata": {},
   "outputs": [],
   "source": [
    "neighborhood_sum_1 = recovered._bairro.value_counts()[0]\n",
    "neighborhood_sum_2 = recovered._bairro.value_counts()[1]\n",
    "neighborhood_sum_3 = recovered._bairro.value_counts()[2]"
   ]
  },
  {
   "cell_type": "code",
   "execution_count": 121,
   "id": "4b1f480f",
   "metadata": {},
   "outputs": [
    {
     "name": "stdout",
     "output_type": "stream",
     "text": [
      "Três bairros com maior incidência de casos recuperados são: \n",
      "CIDADE NOVA com 263 casos, \n",
      "JORGE TEIXEIRA com 183 casos e \n",
      "COMPENSA com 168 casos.\n"
     ]
    }
   ],
   "source": [
    "print(f'Três bairros com maior incidência de casos recuperados são: \\n{neighborhood_1} com {neighborhood_sum_1} casos, \\n{neighborhood_2} com {neighborhood_sum_2} casos e \\n{neighborhood_3} com {neighborhood_sum_3} casos.')"
   ]
  },
  {
   "cell_type": "markdown",
   "id": "e0ee28e4",
   "metadata": {},
   "source": [
    "## 7. Quais os tipos de testes efetuados, segundo os dados? Indique os dados de maneira quantitativa e percentual."
   ]
  },
  {
   "cell_type": "code",
   "execution_count": 122,
   "id": "b10cd020",
   "metadata": {},
   "outputs": [
    {
     "name": "stdout",
     "output_type": "stream",
     "text": [
      "Foram realizados testes do tipo: anticorpo, antigeno e pcr.\n"
     ]
    }
   ],
   "source": [
    "print('Foram realizados testes do tipo: anticorpo, antigeno e pcr.')"
   ]
  },
  {
   "cell_type": "code",
   "execution_count": 123,
   "id": "07af8700",
   "metadata": {},
   "outputs": [],
   "source": [
    "antibody = df_clean_data._teste_anticorpo.sum()"
   ]
  },
  {
   "cell_type": "code",
   "execution_count": 124,
   "id": "0f507920",
   "metadata": {},
   "outputs": [],
   "source": [
    "antigen = df_clean_data._teste_antigeno.sum()"
   ]
  },
  {
   "cell_type": "code",
   "execution_count": 125,
   "id": "87d5567d",
   "metadata": {},
   "outputs": [],
   "source": [
    "pcr = df_clean_data._teste_pcr.sum()"
   ]
  },
  {
   "cell_type": "code",
   "execution_count": 126,
   "id": "7c81826e",
   "metadata": {},
   "outputs": [
    {
     "name": "stdout",
     "output_type": "stream",
     "text": [
      "Quantitativa\n",
      "Teste Anticorpo: 134.0,\n",
      "Teste Antigeno: 37.0,\n",
      "Teste PCR: 3849.0.\n"
     ]
    }
   ],
   "source": [
    "print(f'Quantitativa\\nTeste Anticorpo: {antibody},\\nTeste Antigeno: {antigen},\\nTeste PCR: {pcr}.')"
   ]
  },
  {
   "cell_type": "code",
   "execution_count": 127,
   "id": "699ed660",
   "metadata": {},
   "outputs": [],
   "source": [
    "total_tests = antibody + antigen + pcr"
   ]
  },
  {
   "cell_type": "code",
   "execution_count": 128,
   "id": "9402f4e1",
   "metadata": {},
   "outputs": [
    {
     "name": "stdout",
     "output_type": "stream",
     "text": [
      "Percentual\n",
      "Teste Anticorpo: 3.33%,\n",
      "Teste Antigeno: 0.92%,\n",
      "Teste PCR: 95.75%.\n"
     ]
    }
   ],
   "source": [
    "print(f'Percentual\\nTeste Anticorpo: {round((antibody/total_tests)*100,2)}%,\\nTeste Antigeno: {round((antigen/total_tests)*100,2)}%,\\nTeste PCR: {round((pcr/total_tests)*100,2)}%.')"
   ]
  },
  {
   "cell_type": "markdown",
   "id": "21570be0",
   "metadata": {},
   "source": [
    "## 8. Qual taxa de letalidade pode ser calculada a partir do conjunto de dados? Para calcular esta taxa, considere a fração do total de óbitos pelo total de casos"
   ]
  },
  {
   "cell_type": "code",
   "execution_count": 129,
   "id": "49dbd5be",
   "metadata": {},
   "outputs": [],
   "source": [
    "selection = df_clean_data._conclusao == 'Óbito'\n",
    "death_rates = df_clean_data[selection].shape[0]"
   ]
  },
  {
   "cell_type": "code",
   "execution_count": 130,
   "id": "eaae7600",
   "metadata": {
    "scrolled": false
   },
   "outputs": [
    {
     "name": "stdout",
     "output_type": "stream",
     "text": [
      "Taxa de letalidade calculada a partir do conjunto de dados: 3.88%.\n"
     ]
    }
   ],
   "source": [
    "lethal_rate = death_rates/df_confirmed.shape[0]\n",
    "print(f'Taxa de letalidade calculada a partir do conjunto de dados: {round(lethal_rate*100, 2)}%.')"
   ]
  },
  {
   "cell_type": "markdown",
   "id": "b4009d1e",
   "metadata": {},
   "source": [
    "## 9. Qual o tipo de correlação, mediante coeficiente de correlação de Pearson, entre a idade e o número de casos? Para responder a esta pergunte, agrupe o número de casos por idade e efetue o cálculo de tal coeficiente. Indique, a partir do resultado, a natureza desta correlação, se é positiva ou negativa, e qual sua intensidade."
   ]
  },
  {
   "cell_type": "code",
   "execution_count": 131,
   "id": "c5121929",
   "metadata": {},
   "outputs": [
    {
     "data": {
      "text/html": [
       "<div>\n",
       "<style scoped>\n",
       "    .dataframe tbody tr th:only-of-type {\n",
       "        vertical-align: middle;\n",
       "    }\n",
       "\n",
       "    .dataframe tbody tr th {\n",
       "        vertical-align: top;\n",
       "    }\n",
       "\n",
       "    .dataframe thead th {\n",
       "        text-align: right;\n",
       "    }\n",
       "</style>\n",
       "<table border=\"1\" class=\"dataframe\">\n",
       "  <thead>\n",
       "    <tr style=\"text-align: right;\">\n",
       "      <th></th>\n",
       "      <th>contagem</th>\n",
       "    </tr>\n",
       "    <tr>\n",
       "      <th>idade</th>\n",
       "      <th></th>\n",
       "    </tr>\n",
       "  </thead>\n",
       "  <tbody>\n",
       "    <tr>\n",
       "      <th>0</th>\n",
       "      <td>107</td>\n",
       "    </tr>\n",
       "    <tr>\n",
       "      <th>1</th>\n",
       "      <td>69</td>\n",
       "    </tr>\n",
       "    <tr>\n",
       "      <th>2</th>\n",
       "      <td>35</td>\n",
       "    </tr>\n",
       "    <tr>\n",
       "      <th>3</th>\n",
       "      <td>25</td>\n",
       "    </tr>\n",
       "    <tr>\n",
       "      <th>4</th>\n",
       "      <td>16</td>\n",
       "    </tr>\n",
       "    <tr>\n",
       "      <th>...</th>\n",
       "      <td>...</td>\n",
       "    </tr>\n",
       "    <tr>\n",
       "      <th>98</th>\n",
       "      <td>8</td>\n",
       "    </tr>\n",
       "    <tr>\n",
       "      <th>99</th>\n",
       "      <td>3</td>\n",
       "    </tr>\n",
       "    <tr>\n",
       "      <th>100</th>\n",
       "      <td>1</td>\n",
       "    </tr>\n",
       "    <tr>\n",
       "      <th>101</th>\n",
       "      <td>2</td>\n",
       "    </tr>\n",
       "    <tr>\n",
       "      <th>102</th>\n",
       "      <td>2</td>\n",
       "    </tr>\n",
       "  </tbody>\n",
       "</table>\n",
       "<p>103 rows × 1 columns</p>\n",
       "</div>"
      ],
      "text/plain": [
       "       contagem\n",
       "idade          \n",
       "0           107\n",
       "1            69\n",
       "2            35\n",
       "3            25\n",
       "4            16\n",
       "...         ...\n",
       "98            8\n",
       "99            3\n",
       "100           1\n",
       "101           2\n",
       "102           2\n",
       "\n",
       "[103 rows x 1 columns]"
      ]
     },
     "execution_count": 131,
     "metadata": {},
     "output_type": "execute_result"
    }
   ],
   "source": [
    "df_idade = pd.DataFrame(df_clean_data.groupby(by='_idade', as_index=False)[['_idade']].count())\n",
    "df_idade.rename(columns={'_idade': 'contagem'}, inplace = True)\n",
    "df_idade.rename_axis('idade')"
   ]
  },
  {
   "cell_type": "code",
   "execution_count": 132,
   "id": "b59ab98f",
   "metadata": {},
   "outputs": [],
   "source": [
    "df_idade['idades'] = df_idade.index\n",
    "correlacao = df_idade.idades.corr(df_idade.contagem)"
   ]
  },
  {
   "cell_type": "code",
   "execution_count": 133,
   "id": "0a29579a",
   "metadata": {},
   "outputs": [
    {
     "name": "stdout",
     "output_type": "stream",
     "text": [
      "O valor da correlação de Pearson é positiva, de natureza desprezível: 0.25.\n"
     ]
    }
   ],
   "source": [
    "print(f'O valor da correlação de Pearson é positiva, de natureza desprezível: {round(correlacao,2)}.')"
   ]
  },
  {
   "cell_type": "markdown",
   "id": "05c1acd3",
   "metadata": {},
   "source": [
    "# Visualização de Dados"
   ]
  },
  {
   "cell_type": "markdown",
   "id": "6fbb5b3e",
   "metadata": {},
   "source": [
    "## 1. Construa um histograma denotando a quantidade de casos nos 10 bairros em que houve mais casos registrados. Inclua todos os bairros remanescentes em uma categoria denominada “Outros.” Denote as informações de maneira percentual;"
   ]
  },
  {
   "cell_type": "code",
   "execution_count": 134,
   "id": "2abe2387",
   "metadata": {},
   "outputs": [],
   "source": [
    "neighborhoods = df_neighborhoods_clean.groupby(by='_bairro').size().sort_values(ascending=False).head(10)"
   ]
  },
  {
   "cell_type": "code",
   "execution_count": 135,
   "id": "a3476553",
   "metadata": {},
   "outputs": [],
   "source": [
    "others = df_neighborhoods_clean.groupby(by='_bairro').size().sort_values(ascending=True).head(137).sum()"
   ]
  },
  {
   "cell_type": "code",
   "execution_count": 136,
   "id": "a5fdaf85",
   "metadata": {},
   "outputs": [],
   "source": [
    "neighborhoods_names = [neighborhood for neighborhood in neighborhoods.index]\n",
    "neighborhoods_names.append('OUTROS')"
   ]
  },
  {
   "cell_type": "code",
   "execution_count": 137,
   "id": "209c257c",
   "metadata": {},
   "outputs": [],
   "source": [
    "values = [round((neighborhood/df_neighborhoods_clean.shape[0])*100, 2) for neighborhood in neighborhoods]\n",
    "values.append(round((others/df_neighborhoods_clean.shape[0])*100, 2))"
   ]
  },
  {
   "cell_type": "code",
   "execution_count": 138,
   "id": "18f1b7f3",
   "metadata": {},
   "outputs": [],
   "source": [
    "df_neighborhoods = pd.DataFrame(neighborhoods_names, columns=['bairros'])\n",
    "df_neighborhoods['percentual'] = values"
   ]
  },
  {
   "cell_type": "code",
   "execution_count": 149,
   "id": "a3bfcf3e",
   "metadata": {},
   "outputs": [
    {
     "data": {
      "image/png": "[encoded data removed]",
      "text/plain": [
       "<Figure size 1296x864 with 1 Axes>"
      ]
     },
     "metadata": {
      "needs_background": "light"
     },
     "output_type": "display_data"
    }
   ],
   "source": [
    "ax = sns.barplot(data=df_neighborhoods, x=\"bairros\", y=\"percentual\")\n",
    "ax.figure.set_size_inches(18, 12)\n",
    "ax.set_title('Quantidade de casos nos 10 bairros com mais casos registrados', loc='left', fontsize=18)\n",
    "ax.set_xlabel('Bairros', fontsize = '14')\n",
    "ax.set_ylabel('Quantidade de Casos (%)', fontsize = '14')\n",
    "plt.xticks(rotation=45)\n",
    "ax = ax"
   ]
  },
  {
   "cell_type": "markdown",
   "id": "aa9634f2",
   "metadata": {},
   "source": [
    "## 2. Denote, por sexo, o boxplot da idade dos casos confirmados. Há outliers?"
   ]
  },
  {
   "cell_type": "code",
   "execution_count": 56,
   "id": "1db47bc8",
   "metadata": {},
   "outputs": [
    {
     "data": {
      "image/png": "[encoded data removed]",
      "text/plain": [
       "<Figure size 864x432 with 1 Axes>"
      ]
     },
     "metadata": {},
     "output_type": "display_data"
    }
   ],
   "source": [
    "ax = sns.boxplot(x=\"_sexo\", y=\"_idade\", data=df_clean_data, hue=\"_sexo\")\n",
    "ax.figure.set_size_inches(12, 6)\n",
    "ax.set_title('Gráfico de Boxplot do Sexo pela idade de casos confirmados', loc='left', fontsize=18)\n",
    "ax.set_xlabel('Sexo', fontsize = '14')\n",
    "ax.set_ylabel('Idade', fontsize = '14')\n",
    "ax = ax"
   ]
  },
  {
   "cell_type": "markdown",
   "id": "aa18f69e",
   "metadata": {},
   "source": [
    "### Segundo análise do gráfico de Boxplot, sim, existem outliers no dados do sexo masculino."
   ]
  },
  {
   "cell_type": "markdown",
   "id": "d33c34ef",
   "metadata": {},
   "source": [
    "## 3. Denote em um gráfico de barras o número de novos casos por dia, considerando os 10 últimos dias existentes na base de dados;"
   ]
  },
  {
   "cell_type": "code",
   "execution_count": 58,
   "id": "9ae268a9",
   "metadata": {},
   "outputs": [],
   "source": [
    "x = slice(-1, -11, -1)\n",
    "df_10_dias = df_clean_data.groupby('_dt_notificacao').count()[x]\n",
    "df_10_dias.drop(columns=['_conclusao', '_criterio', '_evolução', '_idade', '_faixa etária','_sexo','_teste_anticorpo','_teste_antigeno','_teste_pcr','_bairro','_taxa'], inplace=True)"
   ]
  },
  {
   "cell_type": "code",
   "execution_count": 59,
   "id": "d5d5c70c",
   "metadata": {},
   "outputs": [],
   "source": [
    "df_10_dias['_notificacao'] = df_10_dias.index.copy()\n",
    "df_10_dias.index = range(df_10_dias.shape[0])"
   ]
  },
  {
   "cell_type": "code",
   "execution_count": 60,
   "id": "30c56539",
   "metadata": {},
   "outputs": [
    {
     "data": {
      "image/png": "[encoded data removed]",
      "text/plain": [
       "<Figure size 864x432 with 1 Axes>"
      ]
     },
     "metadata": {},
     "output_type": "display_data"
    }
   ],
   "source": [
    "ax = sns.barplot(x=\"_notificacao\", y=\"_classificacao\", data=df_10_dias)\n",
    "ax.figure.set_size_inches(12, 6)\n",
    "ax.set_title('Número de novos casos por dia, dos últimos 10 dias', loc='left', fontsize=18)\n",
    "ax.set_xlabel('Data', fontsize = '14')\n",
    "ax.set_ylabel('Novos Casos', fontsize = '14')\n",
    "ax = ax"
   ]
  },
  {
   "cell_type": "markdown",
   "id": "fad7ac3d",
   "metadata": {},
   "source": [
    "## 4. Repita o gráfico anterior considerando o número de casos recuperados;"
   ]
  },
  {
   "cell_type": "code",
   "execution_count": 61,
   "id": "79614f00",
   "metadata": {},
   "outputs": [],
   "source": [
    "x = slice(-1, -11, -1)\n",
    "df_recuperados = df_clean_data[df_clean_data['_conclusao'] == 'Recuperado'].groupby(['_dt_notificacao', '_conclusao']).count()"
   ]
  },
  {
   "cell_type": "code",
   "execution_count": 62,
   "id": "57b465b1",
   "metadata": {},
   "outputs": [],
   "source": [
    "df_recuperados.drop(columns=['_criterio', '_evolução', '_idade', '_faixa etária','_sexo','_teste_anticorpo','_teste_antigeno','_teste_pcr','_bairro','_taxa'], inplace=True)"
   ]
  },
  {
   "cell_type": "code",
   "execution_count": 63,
   "id": "f565b3b9",
   "metadata": {},
   "outputs": [],
   "source": [
    "df_recuperados['_notificacao'] = df_recuperados.index.get_level_values(0).copy()"
   ]
  },
  {
   "cell_type": "code",
   "execution_count": 64,
   "id": "a4614953",
   "metadata": {},
   "outputs": [],
   "source": [
    "df_recuperados.index = range(df_recuperados.shape[0])"
   ]
  },
  {
   "cell_type": "code",
   "execution_count": 65,
   "id": "8a993ef0",
   "metadata": {},
   "outputs": [],
   "source": [
    "df_recuperados.loc[:, '_notificacao_mes'] = df_recuperados._notificacao.dt.month"
   ]
  },
  {
   "cell_type": "code",
   "execution_count": 66,
   "id": "bf49577b",
   "metadata": {},
   "outputs": [
    {
     "data": {
      "image/png": "[encoded data removed]",
      "text/plain": [
       "<Figure size 1296x864 with 1 Axes>"
      ]
     },
     "metadata": {},
     "output_type": "display_data"
    }
   ],
   "source": [
    "ax = sns.barplot(x=\"_notificacao_mes\", y=\"_classificacao\", data=df_recuperados)\n",
    "ax.figure.set_size_inches(18, 12)\n",
    "ax.set_title('Número de casos recuperados', loc='left', fontsize=18)\n",
    "ax.set_xlabel('Meses do Ano', fontsize = '14')\n",
    "ax.set_ylabel('Novos Casos Recuperados', fontsize = '14')\n",
    "ax = ax"
   ]
  },
  {
   "cell_type": "markdown",
   "id": "610bfa9c",
   "metadata": {},
   "source": [
    "## 5. Construa um histograma que denote a quantidade percentual de casos por grupo etário, considerando que cada grupo contempla uma década (0 a 10 anos, 11 a 20 anos, etc.);"
   ]
  },
  {
   "cell_type": "code",
   "execution_count": 67,
   "id": "773ef880",
   "metadata": {},
   "outputs": [],
   "source": [
    "df_faixa = df_clean_data.groupby(['_faixa etária']).count()"
   ]
  },
  {
   "cell_type": "code",
   "execution_count": 68,
   "id": "e30bc285",
   "metadata": {},
   "outputs": [],
   "source": [
    "df_faixa.drop(columns=['_dt_notificacao','_conclusao','_criterio','_evolução','_sexo','_teste_anticorpo','_teste_antigeno','_teste_pcr','_bairro','_taxa'], inplace=True)"
   ]
  },
  {
   "cell_type": "code",
   "execution_count": 69,
   "id": "96f89ecc",
   "metadata": {},
   "outputs": [],
   "source": [
    "df_faixa._idade = round(df_faixa._idade/df_faixa._idade.shape[0],2)"
   ]
  },
  {
   "cell_type": "code",
   "execution_count": 70,
   "id": "58f07bbe",
   "metadata": {},
   "outputs": [
    {
     "data": {
      "text/plain": [
       "array([[<AxesSubplot:title={'center':'_idade'}>]], dtype=object)"
      ]
     },
     "execution_count": 70,
     "metadata": {},
     "output_type": "execute_result"
    },
    {
     "data": {
      "image/png": "[encoded data removed]",
      "text/plain": [
       "<Figure size 432x288 with 1 Axes>"
      ]
     },
     "metadata": {},
     "output_type": "display_data"
    }
   ],
   "source": [
    "df_clean_data.hist(['_idade'])"
   ]
  },
  {
   "cell_type": "markdown",
   "id": "fd88b6c2",
   "metadata": {},
   "source": [
    "## 6. Elabore um gráfico que mostra o cumulativo de casos notificados ao longo do tempo;"
   ]
  },
  {
   "cell_type": "code",
   "execution_count": 71,
   "id": "c766a962",
   "metadata": {},
   "outputs": [],
   "source": [
    "df_acc = df_clean_data.groupby('_dt_notificacao').count()"
   ]
  },
  {
   "cell_type": "code",
   "execution_count": 72,
   "id": "278c2624",
   "metadata": {},
   "outputs": [],
   "source": [
    "df_acc.drop(columns=['_conclusao','_criterio','_evolução', '_idade','_faixa etária' ,'_sexo','_teste_anticorpo','_teste_antigeno','_teste_pcr','_bairro','_taxa'], inplace=True)"
   ]
  },
  {
   "cell_type": "code",
   "execution_count": 73,
   "id": "1ffde9b0",
   "metadata": {},
   "outputs": [],
   "source": [
    "df_acc['casos_acumulativos'] = df_acc['_classificacao'].cumsum(axis=0)"
   ]
  },
  {
   "cell_type": "code",
   "execution_count": 74,
   "id": "5efd2e19",
   "metadata": {},
   "outputs": [],
   "source": [
    "df_acc['_notificacao'] = df_acc.index.get_level_values(0).copy()"
   ]
  },
  {
   "cell_type": "code",
   "execution_count": 75,
   "id": "9d83e867",
   "metadata": {},
   "outputs": [],
   "source": [
    "df_acc.loc[:, '_notificacao_mes'] = df_acc._notificacao.dt.month"
   ]
  },
  {
   "cell_type": "code",
   "execution_count": 76,
   "id": "bee86d33",
   "metadata": {},
   "outputs": [
    {
     "data": {
      "image/png": "[encoded data removed]",
      "text/plain": [
       "<Figure size 864x432 with 1 Axes>"
      ]
     },
     "metadata": {},
     "output_type": "display_data"
    }
   ],
   "source": [
    "sns.set_palette('Accent')\n",
    "sns.set_style('darkgrid')\n",
    "ax = sns.lineplot(x='_notificacao_mes', y='_classificacao', data=df_acc)\n",
    "ax.figure.set_size_inches(12, 6)\n",
    "ax.set_title('Acumulativo de casos notificados', loc='left', fontsize=18)\n",
    "ax.set_xlabel('Tempo', fontsize = '14')\n",
    "ax.set_ylabel('Quantidade', fontsize = '14')\n",
    "ax = ax"
   ]
  },
  {
   "cell_type": "markdown",
   "id": "d0c81018",
   "metadata": {},
   "source": [
    "## 7. Faça um gráfico do tipo scatterplot que denote a idade versus o número total de casos registrado para aquela idade. Aproveite o processamento efetuado para o cálculo da correlação. É possível observar alguma tendência?"
   ]
  },
  {
   "cell_type": "code",
   "execution_count": 77,
   "id": "d0611f01",
   "metadata": {},
   "outputs": [],
   "source": [
    "df_idadexcasos = df_clean_data.groupby('_idade').count().drop(columns=['_dt_notificacao','_conclusao','_criterio','_evolução','_faixa etária' ,'_sexo','_teste_anticorpo','_teste_antigeno','_teste_pcr','_bairro','_taxa'])"
   ]
  },
  {
   "cell_type": "code",
   "execution_count": 78,
   "id": "a679e65c",
   "metadata": {},
   "outputs": [],
   "source": [
    "df_idadexcasos.rename(columns={\"_classificacao\": \"idades_agp\"}, inplace=True)"
   ]
  },
  {
   "cell_type": "code",
   "execution_count": 79,
   "id": "3df82394",
   "metadata": {},
   "outputs": [],
   "source": [
    "df_idadexcasos['idade'] = df_idadexcasos.index.copy()\n",
    "df_idadexcasos.index = range(df_idadexcasos.shape[0])"
   ]
  },
  {
   "cell_type": "code",
   "execution_count": 80,
   "id": "ec47f281",
   "metadata": {},
   "outputs": [
    {
     "data": {
      "text/plain": [
       "<AxesSubplot:xlabel='idade', ylabel='idades_agp'>"
      ]
     },
     "execution_count": 80,
     "metadata": {},
     "output_type": "execute_result"
    },
    {
     "data": {
      "image/png": "[encoded data removed]",
      "text/plain": [
       "<Figure size 432x288 with 2 Axes>"
      ]
     },
     "metadata": {},
     "output_type": "display_data"
    }
   ],
   "source": [
    "df_idadexcasos.plot.scatter(x='idade', y='idades_agp', c='idade', colormap='viridis')"
   ]
  },
  {
   "cell_type": "code",
   "execution_count": 81,
   "id": "faf495e4",
   "metadata": {},
   "outputs": [
    {
     "data": {
      "text/plain": [
       "0.2409745125222918"
      ]
     },
     "execution_count": 81,
     "metadata": {},
     "output_type": "execute_result"
    }
   ],
   "source": [
    "df_idadexcasos.idade.corr(df_idadexcasos.idades_agp)"
   ]
  },
  {
   "cell_type": "markdown",
   "id": "91c55e32",
   "metadata": {},
   "source": [
    "### Podemos observar uma tendência clara da doença atingir pessoas com idades próximas a 60 anos."
   ]
  },
  {
   "cell_type": "code",
   "execution_count": null,
   "id": "3e5d5d7d",
   "metadata": {},
   "outputs": [],
   "source": []
  }
 ],
 "metadata": {
  "interpreter": {
   "hash": "810ca3a76d7cc867501caa1d480b027a0c4117bc496204715cde117464dcb849"
  },
  "kernelspec": {
   "display_name": "Python 3 (ipykernel)",
   "language": "python",
   "name": "python3"
  },
  "language_info": {
   "codemirror_mode": {
    "name": "ipython",
    "version": 3
   },
   "file_extension": ".py",
   "mimetype": "text/x-python",
   "name": "python",
   "nbconvert_exporter": "python",
   "pygments_lexer": "ipython3",
   "version": "3.8.11"
  }
 },
 "nbformat": 4,
 "nbformat_minor": 5
}
