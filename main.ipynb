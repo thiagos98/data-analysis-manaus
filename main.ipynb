{
 "cells": [
  {
   "cell_type": "code",
   "execution_count": 1,
   "id": "d744dd29",
   "metadata": {},
   "outputs": [],
   "source": [
    "import pandas as pd\n",
    "import numpy as np\n",
    "import openpyxl\n",
    "import re\n",
    "import seaborn as sns\n",
    "import matplotlib.pyplot as plt"
   ]
  },
  {
   "cell_type": "code",
   "execution_count": 2,
   "id": "18270fe9",
   "metadata": {},
   "outputs": [
    {
     "data": {
      "text/html": [
       "<div>\n",
       "<style scoped>\n",
       "    .dataframe tbody tr th:only-of-type {\n",
       "        vertical-align: middle;\n",
       "    }\n",
       "\n",
       "    .dataframe tbody tr th {\n",
       "        vertical-align: top;\n",
       "    }\n",
       "\n",
       "    .dataframe thead th {\n",
       "        text-align: right;\n",
       "    }\n",
       "</style>\n",
       "<table border=\"1\" class=\"dataframe\">\n",
       "  <thead>\n",
       "    <tr style=\"text-align: right;\">\n",
       "      <th></th>\n",
       "      <th>_dt_evolucao</th>\n",
       "      <th>_dt_notificacao</th>\n",
       "      <th>_dt_sintomas</th>\n",
       "      <th>_classificacao</th>\n",
       "      <th>_conclusao</th>\n",
       "      <th>_origem</th>\n",
       "      <th>_comorb_cardio</th>\n",
       "      <th>_comorb_cromossomica</th>\n",
       "      <th>_comorb_diabetes</th>\n",
       "      <th>_comorb_hemato</th>\n",
       "      <th>...</th>\n",
       "      <th>_sintoma_tosse</th>\n",
       "      <th>_sintoma_outros</th>\n",
       "      <th>_srag</th>\n",
       "      <th>_teste_anticorpo</th>\n",
       "      <th>_teste_antigeno</th>\n",
       "      <th>_teste_pcr</th>\n",
       "      <th>_bairro</th>\n",
       "      <th>_bairro_mapa</th>\n",
       "      <th>_distrito</th>\n",
       "      <th>_taxa</th>\n",
       "    </tr>\n",
       "  </thead>\n",
       "  <tbody>\n",
       "    <tr>\n",
       "      <th>0</th>\n",
       "      <td>25/01/2020 00:00</td>\n",
       "      <td>03/01/2020 00:00</td>\n",
       "      <td>01/01/2020 00:00</td>\n",
       "      <td>Descartado</td>\n",
       "      <td>Recuperado</td>\n",
       "      <td>SIVEP,</td>\n",
       "      <td>NaN</td>\n",
       "      <td>NaN</td>\n",
       "      <td>NaN</td>\n",
       "      <td>NaN</td>\n",
       "      <td>...</td>\n",
       "      <td>Sim</td>\n",
       "      <td>Sim</td>\n",
       "      <td>SRAG não especificado</td>\n",
       "      <td>NaN</td>\n",
       "      <td>NaN</td>\n",
       "      <td>NaN</td>\n",
       "      <td>TARUMA</td>\n",
       "      <td>TARUMÃ</td>\n",
       "      <td>OESTE</td>\n",
       "      <td>0,243042897</td>\n",
       "    </tr>\n",
       "    <tr>\n",
       "      <th>1</th>\n",
       "      <td>03/01/2020 00:00</td>\n",
       "      <td>03/01/2020 00:00</td>\n",
       "      <td>01/01/2020 00:00</td>\n",
       "      <td>Descartado</td>\n",
       "      <td>Óbito</td>\n",
       "      <td>SIVEP,</td>\n",
       "      <td>NaN</td>\n",
       "      <td>NaN</td>\n",
       "      <td>NaN</td>\n",
       "      <td>NaN</td>\n",
       "      <td>...</td>\n",
       "      <td>Sim</td>\n",
       "      <td>Sim</td>\n",
       "      <td>Influenza B</td>\n",
       "      <td>NaN</td>\n",
       "      <td>NaN</td>\n",
       "      <td>NaN</td>\n",
       "      <td>TARUMA-ACU</td>\n",
       "      <td>TARUMÃ-AÇÚ</td>\n",
       "      <td>OESTE</td>\n",
       "      <td>0,684931507</td>\n",
       "    </tr>\n",
       "    <tr>\n",
       "      <th>2</th>\n",
       "      <td>05/01/2020 00:00</td>\n",
       "      <td>03/01/2020 00:00</td>\n",
       "      <td>03/01/2020 00:00</td>\n",
       "      <td>Descartado</td>\n",
       "      <td>Óbito</td>\n",
       "      <td>SIVEP,</td>\n",
       "      <td>NaN</td>\n",
       "      <td>NaN</td>\n",
       "      <td>NaN</td>\n",
       "      <td>NaN</td>\n",
       "      <td>...</td>\n",
       "      <td>Sim</td>\n",
       "      <td>Sim</td>\n",
       "      <td>SRAG não especificado</td>\n",
       "      <td>NaN</td>\n",
       "      <td>NaN</td>\n",
       "      <td>NaN</td>\n",
       "      <td>JORGE TEIXEIRA</td>\n",
       "      <td>JORGE TEIXEIRA</td>\n",
       "      <td>LESTE</td>\n",
       "      <td>0,073137374</td>\n",
       "    </tr>\n",
       "    <tr>\n",
       "      <th>3</th>\n",
       "      <td>16/01/2020 00:00</td>\n",
       "      <td>08/01/2020 00:00</td>\n",
       "      <td>04/01/2020 00:00</td>\n",
       "      <td>Descartado</td>\n",
       "      <td>Óbito</td>\n",
       "      <td>SIVEP,</td>\n",
       "      <td>NaN</td>\n",
       "      <td>NaN</td>\n",
       "      <td>NaN</td>\n",
       "      <td>NaN</td>\n",
       "      <td>...</td>\n",
       "      <td>Sim</td>\n",
       "      <td>Sim</td>\n",
       "      <td>SRAG não especificado</td>\n",
       "      <td>NaN</td>\n",
       "      <td>NaN</td>\n",
       "      <td>NaN</td>\n",
       "      <td>FLORES</td>\n",
       "      <td>FLORES</td>\n",
       "      <td>SUL</td>\n",
       "      <td>0,198306463</td>\n",
       "    </tr>\n",
       "    <tr>\n",
       "      <th>4</th>\n",
       "      <td>11/01/2020 00:00</td>\n",
       "      <td>08/01/2020 00:00</td>\n",
       "      <td>05/01/2020 00:00</td>\n",
       "      <td>Descartado</td>\n",
       "      <td>Recuperado</td>\n",
       "      <td>SIVEP,</td>\n",
       "      <td>NaN</td>\n",
       "      <td>NaN</td>\n",
       "      <td>NaN</td>\n",
       "      <td>NaN</td>\n",
       "      <td>...</td>\n",
       "      <td>Sim</td>\n",
       "      <td>Sim</td>\n",
       "      <td>SRAG não especificado</td>\n",
       "      <td>NaN</td>\n",
       "      <td>NaN</td>\n",
       "      <td>NaN</td>\n",
       "      <td>CIDADE DE DEUS</td>\n",
       "      <td>CIDADE DE DEUS</td>\n",
       "      <td>NORTE</td>\n",
       "      <td>0,117699678</td>\n",
       "    </tr>\n",
       "  </tbody>\n",
       "</table>\n",
       "<p>5 rows × 39 columns</p>\n",
       "</div>"
      ],
      "text/plain": [
       "       _dt_evolucao   _dt_notificacao      _dt_sintomas _classificacao  \\\n",
       "0  25/01/2020 00:00  03/01/2020 00:00  01/01/2020 00:00     Descartado   \n",
       "1  03/01/2020 00:00  03/01/2020 00:00  01/01/2020 00:00     Descartado   \n",
       "2  05/01/2020 00:00  03/01/2020 00:00  03/01/2020 00:00     Descartado   \n",
       "3  16/01/2020 00:00  08/01/2020 00:00  04/01/2020 00:00     Descartado   \n",
       "4  11/01/2020 00:00  08/01/2020 00:00  05/01/2020 00:00     Descartado   \n",
       "\n",
       "   _conclusao  _origem _comorb_cardio _comorb_cromossomica _comorb_diabetes  \\\n",
       "0  Recuperado  SIVEP,             NaN                  NaN              NaN   \n",
       "1       Óbito  SIVEP,             NaN                  NaN              NaN   \n",
       "2       Óbito  SIVEP,             NaN                  NaN              NaN   \n",
       "3       Óbito  SIVEP,             NaN                  NaN              NaN   \n",
       "4  Recuperado  SIVEP,             NaN                  NaN              NaN   \n",
       "\n",
       "  _comorb_hemato  ... _sintoma_tosse _sintoma_outros                  _srag  \\\n",
       "0            NaN  ...            Sim             Sim  SRAG não especificado   \n",
       "1            NaN  ...            Sim             Sim            Influenza B   \n",
       "2            NaN  ...            Sim             Sim  SRAG não especificado   \n",
       "3            NaN  ...            Sim             Sim  SRAG não especificado   \n",
       "4            NaN  ...            Sim             Sim  SRAG não especificado   \n",
       "\n",
       "  _teste_anticorpo _teste_antigeno _teste_pcr         _bairro    _bairro_mapa  \\\n",
       "0              NaN             NaN        NaN          TARUMA          TARUMÃ   \n",
       "1              NaN             NaN        NaN      TARUMA-ACU      TARUMÃ-AÇÚ   \n",
       "2              NaN             NaN        NaN  JORGE TEIXEIRA  JORGE TEIXEIRA   \n",
       "3              NaN             NaN        NaN          FLORES          FLORES   \n",
       "4              NaN             NaN        NaN  CIDADE DE DEUS  CIDADE DE DEUS   \n",
       "\n",
       "  _distrito        _taxa  \n",
       "0     OESTE  0,243042897  \n",
       "1     OESTE  0,684931507  \n",
       "2     LESTE  0,073137374  \n",
       "3       SUL  0,198306463  \n",
       "4     NORTE  0,117699678  \n",
       "\n",
       "[5 rows x 39 columns]"
      ]
     },
     "execution_count": 2,
     "metadata": {},
     "output_type": "execute_result"
    }
   ],
   "source": [
    "raw_data = pd.read_csv(\"manaus.csv\", sep=\";\", low_memory=False)\n",
    "raw_data.head()"
   ]
  },
  {
   "cell_type": "code",
   "execution_count": 3,
   "id": "a47a4d32",
   "metadata": {},
   "outputs": [
    {
     "data": {
      "text/html": [
       "<div>\n",
       "<style scoped>\n",
       "    .dataframe tbody tr th:only-of-type {\n",
       "        vertical-align: middle;\n",
       "    }\n",
       "\n",
       "    .dataframe tbody tr th {\n",
       "        vertical-align: top;\n",
       "    }\n",
       "\n",
       "    .dataframe thead th {\n",
       "        text-align: right;\n",
       "    }\n",
       "</style>\n",
       "<table border=\"1\" class=\"dataframe\">\n",
       "  <thead>\n",
       "    <tr style=\"text-align: right;\">\n",
       "      <th></th>\n",
       "      <th>_dt_evolucao</th>\n",
       "      <th>_dt_notificacao</th>\n",
       "      <th>_dt_sintomas</th>\n",
       "      <th>_classificacao</th>\n",
       "      <th>_conclusao</th>\n",
       "      <th>_origem</th>\n",
       "      <th>_comorb_cardio</th>\n",
       "      <th>_comorb_cromossomica</th>\n",
       "      <th>_comorb_diabetes</th>\n",
       "      <th>_comorb_hemato</th>\n",
       "      <th>...</th>\n",
       "      <th>_sintoma_tosse</th>\n",
       "      <th>_sintoma_outros</th>\n",
       "      <th>_srag</th>\n",
       "      <th>_teste_anticorpo</th>\n",
       "      <th>_teste_antigeno</th>\n",
       "      <th>_teste_pcr</th>\n",
       "      <th>_bairro</th>\n",
       "      <th>_bairro_mapa</th>\n",
       "      <th>_distrito</th>\n",
       "      <th>_taxa</th>\n",
       "    </tr>\n",
       "  </thead>\n",
       "  <tbody>\n",
       "    <tr>\n",
       "      <th>130</th>\n",
       "      <td>02/03/2020 00:00</td>\n",
       "      <td>23/02/2020 00:00</td>\n",
       "      <td>15/02/2020 00:00</td>\n",
       "      <td>Confirmado</td>\n",
       "      <td>Recuperado</td>\n",
       "      <td>SIVEP, GAL</td>\n",
       "      <td>NaN</td>\n",
       "      <td>NaN</td>\n",
       "      <td>NaN</td>\n",
       "      <td>NaN</td>\n",
       "      <td>...</td>\n",
       "      <td>Sim</td>\n",
       "      <td>Sim</td>\n",
       "      <td>SRAG não especificado</td>\n",
       "      <td>NaN</td>\n",
       "      <td>NaN</td>\n",
       "      <td>1.0</td>\n",
       "      <td>MAUAZINHO</td>\n",
       "      <td>MAUAZINHO</td>\n",
       "      <td>LESTE</td>\n",
       "      <td>0,35040998</td>\n",
       "    </tr>\n",
       "    <tr>\n",
       "      <th>144</th>\n",
       "      <td>01/03/2020 00:00</td>\n",
       "      <td>28/02/2020 00:00</td>\n",
       "      <td>26/02/2020 00:00</td>\n",
       "      <td>Confirmado</td>\n",
       "      <td>Recuperado</td>\n",
       "      <td>SIVEP, GAL</td>\n",
       "      <td>NaN</td>\n",
       "      <td>NaN</td>\n",
       "      <td>NaN</td>\n",
       "      <td>NaN</td>\n",
       "      <td>...</td>\n",
       "      <td>Sim</td>\n",
       "      <td>Sim</td>\n",
       "      <td>Vírus Sincicial Respiratório</td>\n",
       "      <td>NaN</td>\n",
       "      <td>NaN</td>\n",
       "      <td>1.0</td>\n",
       "      <td>NOVO ALEIXO</td>\n",
       "      <td>NOVO ALEIXO</td>\n",
       "      <td>NORTE</td>\n",
       "      <td>0,085452557</td>\n",
       "    </tr>\n",
       "    <tr>\n",
       "      <th>153</th>\n",
       "      <td>05/04/2020 00:00</td>\n",
       "      <td>02/03/2020 00:00</td>\n",
       "      <td>23/02/2020 00:00</td>\n",
       "      <td>Confirmado</td>\n",
       "      <td>Recuperado</td>\n",
       "      <td>SIVEP, eSUS VE,</td>\n",
       "      <td>NaN</td>\n",
       "      <td>NaN</td>\n",
       "      <td>NaN</td>\n",
       "      <td>NaN</td>\n",
       "      <td>...</td>\n",
       "      <td>Sim</td>\n",
       "      <td>Sim</td>\n",
       "      <td>SRAG não especificado</td>\n",
       "      <td>1.0</td>\n",
       "      <td>NaN</td>\n",
       "      <td>NaN</td>\n",
       "      <td>PRACA 14 DE JANEIRO</td>\n",
       "      <td>PRAÇA 14 DE JANEIRO</td>\n",
       "      <td>SUL</td>\n",
       "      <td>0,861920359</td>\n",
       "    </tr>\n",
       "    <tr>\n",
       "      <th>158</th>\n",
       "      <td>14/03/2020 00:00</td>\n",
       "      <td>02/03/2020 00:00</td>\n",
       "      <td>29/02/2020 00:00</td>\n",
       "      <td>Confirmado</td>\n",
       "      <td>Recuperado</td>\n",
       "      <td>SIVEP, eSUS VE,</td>\n",
       "      <td>Sim</td>\n",
       "      <td>NaN</td>\n",
       "      <td>NaN</td>\n",
       "      <td>NaN</td>\n",
       "      <td>...</td>\n",
       "      <td>Sim</td>\n",
       "      <td>Sim</td>\n",
       "      <td>SRAG não especificado</td>\n",
       "      <td>2.0</td>\n",
       "      <td>NaN</td>\n",
       "      <td>NaN</td>\n",
       "      <td>FLORES</td>\n",
       "      <td>FLORES</td>\n",
       "      <td>SUL</td>\n",
       "      <td>0,198306463</td>\n",
       "    </tr>\n",
       "    <tr>\n",
       "      <th>196</th>\n",
       "      <td>14/03/2020 00:00</td>\n",
       "      <td>11/03/2020 00:00</td>\n",
       "      <td>09/03/2020 00:00</td>\n",
       "      <td>Confirmado</td>\n",
       "      <td>Recuperado</td>\n",
       "      <td>SIVEP, GAL</td>\n",
       "      <td>NaN</td>\n",
       "      <td>NaN</td>\n",
       "      <td>NaN</td>\n",
       "      <td>NaN</td>\n",
       "      <td>...</td>\n",
       "      <td>Sim</td>\n",
       "      <td>Sim</td>\n",
       "      <td>SRAG não especificado</td>\n",
       "      <td>NaN</td>\n",
       "      <td>NaN</td>\n",
       "      <td>2.0</td>\n",
       "      <td>CIDADE NOVA</td>\n",
       "      <td>CIDADE NOVA</td>\n",
       "      <td>NORTE</td>\n",
       "      <td>0,068152389</td>\n",
       "    </tr>\n",
       "  </tbody>\n",
       "</table>\n",
       "<p>5 rows × 39 columns</p>\n",
       "</div>"
      ],
      "text/plain": [
       "         _dt_evolucao   _dt_notificacao      _dt_sintomas _classificacao  \\\n",
       "130  02/03/2020 00:00  23/02/2020 00:00  15/02/2020 00:00     Confirmado   \n",
       "144  01/03/2020 00:00  28/02/2020 00:00  26/02/2020 00:00     Confirmado   \n",
       "153  05/04/2020 00:00  02/03/2020 00:00  23/02/2020 00:00     Confirmado   \n",
       "158  14/03/2020 00:00  02/03/2020 00:00  29/02/2020 00:00     Confirmado   \n",
       "196  14/03/2020 00:00  11/03/2020 00:00  09/03/2020 00:00     Confirmado   \n",
       "\n",
       "     _conclusao           _origem _comorb_cardio _comorb_cromossomica  \\\n",
       "130  Recuperado        SIVEP, GAL            NaN                  NaN   \n",
       "144  Recuperado        SIVEP, GAL            NaN                  NaN   \n",
       "153  Recuperado  SIVEP, eSUS VE,             NaN                  NaN   \n",
       "158  Recuperado  SIVEP, eSUS VE,             Sim                  NaN   \n",
       "196  Recuperado        SIVEP, GAL            NaN                  NaN   \n",
       "\n",
       "    _comorb_diabetes _comorb_hemato  ... _sintoma_tosse _sintoma_outros  \\\n",
       "130              NaN            NaN  ...            Sim             Sim   \n",
       "144              NaN            NaN  ...            Sim             Sim   \n",
       "153              NaN            NaN  ...            Sim             Sim   \n",
       "158              NaN            NaN  ...            Sim             Sim   \n",
       "196              NaN            NaN  ...            Sim             Sim   \n",
       "\n",
       "                            _srag _teste_anticorpo _teste_antigeno _teste_pcr  \\\n",
       "130         SRAG não especificado              NaN             NaN        1.0   \n",
       "144  Vírus Sincicial Respiratório              NaN             NaN        1.0   \n",
       "153         SRAG não especificado              1.0             NaN        NaN   \n",
       "158         SRAG não especificado              2.0             NaN        NaN   \n",
       "196         SRAG não especificado              NaN             NaN        2.0   \n",
       "\n",
       "                 _bairro         _bairro_mapa _distrito        _taxa  \n",
       "130            MAUAZINHO            MAUAZINHO     LESTE   0,35040998  \n",
       "144          NOVO ALEIXO          NOVO ALEIXO     NORTE  0,085452557  \n",
       "153  PRACA 14 DE JANEIRO  PRAÇA 14 DE JANEIRO       SUL  0,861920359  \n",
       "158               FLORES               FLORES       SUL  0,198306463  \n",
       "196          CIDADE NOVA          CIDADE NOVA     NORTE  0,068152389  \n",
       "\n",
       "[5 rows x 39 columns]"
      ]
     },
     "execution_count": 3,
     "metadata": {},
     "output_type": "execute_result"
    }
   ],
   "source": [
    "df_confirmed = raw_data[raw_data['_classificacao'] == 'Confirmado']\n",
    "df_confirmed.head()"
   ]
  },
  {
   "cell_type": "markdown",
   "id": "81407105",
   "metadata": {},
   "source": [
    "## 2.1-1.Quantos atributos descrevem cada exemplo? Quais são eles?"
   ]
  },
  {
   "cell_type": "code",
   "execution_count": 4,
   "id": "88f742fb",
   "metadata": {},
   "outputs": [
    {
     "name": "stdout",
     "output_type": "stream",
     "text": [
      "Dataframe possui 39 atributos.\n"
     ]
    }
   ],
   "source": [
    "quantity_attributes = df_confirmed.shape[1]\n",
    "print(f'Dataframe possui {quantity_attributes} atributos.')"
   ]
  },
  {
   "cell_type": "code",
   "execution_count": 5,
   "id": "737a071f",
   "metadata": {},
   "outputs": [
    {
     "name": "stdout",
     "output_type": "stream",
     "text": [
      "Lista com todos atributos ['_dt_evolucao', '_dt_notificacao', '_dt_sintomas', '_classificacao', '_conclusao', '_origem', '_comorb_cardio', '_comorb_cromossomica', '_comorb_diabetes', '_comorb_hemato', '_comorb_hepatica', '_comorb_imuno', '_comorb_neurologica', '_comorb_obessidade', '_comorb_renal', '_comorb_respiratoria', '_criterio', '_etnia', '_evolução', '_idade', '_faixa etária', '_gestante', '_profiss_saude', '_raca', '_se_notificacao', '_sexo', '_sintoma_dispneia', '_sintoma_febre', '_sintoma_garganta', '_sintoma_tosse', '_sintoma_outros', '_srag', '_teste_anticorpo', '_teste_antigeno', '_teste_pcr', '_bairro', '_bairro_mapa', '_distrito', '_taxa']\n"
     ]
    }
   ],
   "source": [
    "attributes = []\n",
    "for att in df_confirmed.columns:\n",
    "    attributes.append(att)\n",
    "\n",
    "print(f'Lista com todos atributos {attributes}')\n"
   ]
  },
  {
   "cell_type": "markdown",
   "id": "73b343ec",
   "metadata": {},
   "source": [
    "## 2.1-2.Quantos casos confirmados há em Manaus, cumulativamente?"
   ]
  },
  {
   "cell_type": "code",
   "execution_count": 6,
   "id": "eff2a87e",
   "metadata": {},
   "outputs": [
    {
     "name": "stdout",
     "output_type": "stream",
     "text": [
      "80420 casos confirmados em Manaus.\n"
     ]
    }
   ],
   "source": [
    "confirmed_cases = df_confirmed.shape[0]\n",
    "print(f'{confirmed_cases} casos confirmados em Manaus.')"
   ]
  },
  {
   "cell_type": "markdown",
   "id": "b5df3e19",
   "metadata": {},
   "source": [
    "## 2.1-3.A qual período de tempo a base de dados se refere, isto é, qual o registro mais antigo e qual o mais recente? Leve em conta a data de notificação."
   ]
  },
  {
   "cell_type": "code",
   "execution_count": 7,
   "id": "6a304597",
   "metadata": {},
   "outputs": [
    {
     "name": "stderr",
     "output_type": "stream",
     "text": [
      "C:\\Users\\LudusLab\\anaconda3\\envs\\rna\\lib\\site-packages\\pandas\\core\\indexing.py:1773: SettingWithCopyWarning: \n",
      "A value is trying to be set on a copy of a slice from a DataFrame.\n",
      "Try using .loc[row_indexer,col_indexer] = value instead\n",
      "\n",
      "See the caveats in the documentation: https://pandas.pydata.org/pandas-docs/stable/user_guide/indexing.html#returning-a-view-versus-a-copy\n",
      "  self._setitem_single_column(ilocs[0], value, pi)\n"
     ]
    }
   ],
   "source": [
    "#neighborhoods_duplicates.loc[neighborhoods_duplicates._quantidade == NaN, '_quantidade'] = df_amount['_quantidade']\n",
    "df_confirmed.loc[:,'_dt_notificacao'] = pd.to_datetime(df_confirmed['_dt_notificacao'], format='%d/%m/%Y %H:%M')\n",
    "df_confirmed_notification = pd.DataFrame(df_confirmed['_dt_notificacao'])"
   ]
  },
  {
   "cell_type": "code",
   "execution_count": 8,
   "id": "4ed78cfa",
   "metadata": {},
   "outputs": [],
   "source": [
    "df_confirmed_notification.sort_values('_dt_notificacao', ascending=False, inplace=True)\n",
    "df_confirmed_notification = df_confirmed_notification.dropna()"
   ]
  },
  {
   "cell_type": "code",
   "execution_count": 9,
   "id": "60237603",
   "metadata": {},
   "outputs": [],
   "source": [
    "oldest_record = df_confirmed_notification.iloc[0]\n",
    "latest_record = df_confirmed_notification.iloc[df_confirmed_notification.shape[0]-1]"
   ]
  },
  {
   "cell_type": "code",
   "execution_count": 10,
   "id": "e0b30cfa",
   "metadata": {},
   "outputs": [
    {
     "name": "stdout",
     "output_type": "stream",
     "text": [
      "Registro mais antigo é ['2020-12-29T00:00:00.000000000']\n",
      "Registro mais recente é ['2020-02-16T00:00:00.000000000']\n"
     ]
    }
   ],
   "source": [
    "print(f'Registro mais antigo é {oldest_record.values}')\n",
    "print(f'Registro mais recente é {latest_record.values}')"
   ]
  },
  {
   "cell_type": "markdown",
   "id": "fb4af3c7-cb41-4749-a6f0-ee777b012dcc",
   "metadata": {},
   "source": [
    "## Limpeza dos Dados"
   ]
  },
  {
   "cell_type": "markdown",
   "id": "b7cfc8d6-0b3a-4bea-8952-7d8213aa92d3",
   "metadata": {},
   "source": [
    "### Excluir atributos não relevantes"
   ]
  },
  {
   "cell_type": "code",
   "execution_count": 11,
   "id": "eb3d243d-6bb9-4c6e-9cad-e7735f958bbf",
   "metadata": {},
   "outputs": [],
   "source": [
    "discarded_data = []\n",
    "def clear_data():\n",
    "    for att in attributes:\n",
    "        if att != '_dt_notificacao' and att != '_classificacao' and att != '_conclusao' and att != '_criterio' and att != '_evolução' and att != '_idade' and att != '_faixa etária' and att != '_sexo' and att != '_teste_anticorpo' and att != '_teste_antigeno' and att != '_teste_pcr' and att != '_bairro' and att != '_taxa':\n",
    "                discarded_data.append(att)\n",
    "\n",
    "clear_data()"
   ]
  },
  {
   "cell_type": "code",
   "execution_count": 12,
   "id": "5350e840-70c3-4231-9125-1403b34103ae",
   "metadata": {},
   "outputs": [],
   "source": [
    "df_confirmed = df_confirmed.drop(discarded_data,axis=1)"
   ]
  },
  {
   "cell_type": "markdown",
   "id": "483fe328-97c4-44b2-8aea-ed678642ce68",
   "metadata": {},
   "source": [
    "### Excluir linhas de dados faltantes"
   ]
  },
  {
   "cell_type": "markdown",
   "id": "cde7b3d4-58d6-4e25-ae0d-877e2c4cf119",
   "metadata": {},
   "source": [
    "### !O valor zero foi atribuído nas colunas dos testes que o paciente não realizou.!"
   ]
  },
  {
   "cell_type": "code",
   "execution_count": 13,
   "id": "8eab08eb-0e4d-454b-835e-55e037f8ac9f",
   "metadata": {},
   "outputs": [],
   "source": [
    "df_confirmed['_teste_anticorpo'] = df_confirmed['_teste_anticorpo'].fillna(0)\n",
    "df_confirmed['_teste_antigeno'] = df_confirmed['_teste_antigeno'].fillna(0)\n",
    "df_confirmed['_teste_pcr']= df_confirmed['_teste_pcr'].fillna(0)"
   ]
  },
  {
   "cell_type": "code",
   "execution_count": 14,
   "id": "e3fac940-043d-407b-830e-059b5a765a97",
   "metadata": {},
   "outputs": [],
   "source": [
    "df_clean_data = df_confirmed.dropna()"
   ]
  },
  {
   "cell_type": "code",
   "execution_count": 15,
   "id": "fa592299-df90-4348-9720-41f7438c7ddc",
   "metadata": {},
   "outputs": [
    {
     "data": {
      "text/html": [
       "<div>\n",
       "<style scoped>\n",
       "    .dataframe tbody tr th:only-of-type {\n",
       "        vertical-align: middle;\n",
       "    }\n",
       "\n",
       "    .dataframe tbody tr th {\n",
       "        vertical-align: top;\n",
       "    }\n",
       "\n",
       "    .dataframe thead th {\n",
       "        text-align: right;\n",
       "    }\n",
       "</style>\n",
       "<table border=\"1\" class=\"dataframe\">\n",
       "  <thead>\n",
       "    <tr style=\"text-align: right;\">\n",
       "      <th></th>\n",
       "      <th>_dt_notificacao</th>\n",
       "      <th>_classificacao</th>\n",
       "      <th>_conclusao</th>\n",
       "      <th>_criterio</th>\n",
       "      <th>_evolução</th>\n",
       "      <th>_idade</th>\n",
       "      <th>_faixa etária</th>\n",
       "      <th>_sexo</th>\n",
       "      <th>_teste_anticorpo</th>\n",
       "      <th>_teste_antigeno</th>\n",
       "      <th>_teste_pcr</th>\n",
       "      <th>_bairro</th>\n",
       "      <th>_taxa</th>\n",
       "    </tr>\n",
       "  </thead>\n",
       "  <tbody>\n",
       "    <tr>\n",
       "      <th>130</th>\n",
       "      <td>2020-02-23</td>\n",
       "      <td>Confirmado</td>\n",
       "      <td>Recuperado</td>\n",
       "      <td>Laboratorial</td>\n",
       "      <td>Internado em UTI</td>\n",
       "      <td>12.0</td>\n",
       "      <td>10a - 14a</td>\n",
       "      <td>F</td>\n",
       "      <td>0.0</td>\n",
       "      <td>0.0</td>\n",
       "      <td>1.0</td>\n",
       "      <td>MAUAZINHO</td>\n",
       "      <td>0,35040998</td>\n",
       "    </tr>\n",
       "    <tr>\n",
       "      <th>144</th>\n",
       "      <td>2020-02-28</td>\n",
       "      <td>Confirmado</td>\n",
       "      <td>Recuperado</td>\n",
       "      <td>Laboratorial</td>\n",
       "      <td>Internado</td>\n",
       "      <td>39.0</td>\n",
       "      <td>30a - 39a</td>\n",
       "      <td>F</td>\n",
       "      <td>0.0</td>\n",
       "      <td>0.0</td>\n",
       "      <td>1.0</td>\n",
       "      <td>NOVO ALEIXO</td>\n",
       "      <td>0,085452557</td>\n",
       "    </tr>\n",
       "    <tr>\n",
       "      <th>153</th>\n",
       "      <td>2020-03-02</td>\n",
       "      <td>Confirmado</td>\n",
       "      <td>Recuperado</td>\n",
       "      <td>Laboratorial</td>\n",
       "      <td>Internado em UTI</td>\n",
       "      <td>2.0</td>\n",
       "      <td>1a - 4a</td>\n",
       "      <td>F</td>\n",
       "      <td>1.0</td>\n",
       "      <td>0.0</td>\n",
       "      <td>0.0</td>\n",
       "      <td>PRACA 14 DE JANEIRO</td>\n",
       "      <td>0,861920359</td>\n",
       "    </tr>\n",
       "    <tr>\n",
       "      <th>158</th>\n",
       "      <td>2020-03-02</td>\n",
       "      <td>Confirmado</td>\n",
       "      <td>Recuperado</td>\n",
       "      <td>Laboratorial</td>\n",
       "      <td>Internado em UTI</td>\n",
       "      <td>71.0</td>\n",
       "      <td>70a - 79a</td>\n",
       "      <td>F</td>\n",
       "      <td>2.0</td>\n",
       "      <td>0.0</td>\n",
       "      <td>0.0</td>\n",
       "      <td>FLORES</td>\n",
       "      <td>0,198306463</td>\n",
       "    </tr>\n",
       "    <tr>\n",
       "      <th>196</th>\n",
       "      <td>2020-03-11</td>\n",
       "      <td>Confirmado</td>\n",
       "      <td>Recuperado</td>\n",
       "      <td>Clínico</td>\n",
       "      <td>Internado</td>\n",
       "      <td>46.0</td>\n",
       "      <td>40a - 49a</td>\n",
       "      <td>F</td>\n",
       "      <td>0.0</td>\n",
       "      <td>0.0</td>\n",
       "      <td>2.0</td>\n",
       "      <td>CIDADE NOVA</td>\n",
       "      <td>0,068152389</td>\n",
       "    </tr>\n",
       "    <tr>\n",
       "      <th>...</th>\n",
       "      <td>...</td>\n",
       "      <td>...</td>\n",
       "      <td>...</td>\n",
       "      <td>...</td>\n",
       "      <td>...</td>\n",
       "      <td>...</td>\n",
       "      <td>...</td>\n",
       "      <td>...</td>\n",
       "      <td>...</td>\n",
       "      <td>...</td>\n",
       "      <td>...</td>\n",
       "      <td>...</td>\n",
       "      <td>...</td>\n",
       "    </tr>\n",
       "    <tr>\n",
       "      <th>14046</th>\n",
       "      <td>2020-12-15</td>\n",
       "      <td>Confirmado</td>\n",
       "      <td>Óbito</td>\n",
       "      <td>Laboratorial</td>\n",
       "      <td>Internado em UTI</td>\n",
       "      <td>60.0</td>\n",
       "      <td>60a - 69a</td>\n",
       "      <td>F</td>\n",
       "      <td>0.0</td>\n",
       "      <td>0.0</td>\n",
       "      <td>0.0</td>\n",
       "      <td>LAGO AZUL</td>\n",
       "      <td>0,178428049</td>\n",
       "    </tr>\n",
       "    <tr>\n",
       "      <th>14072</th>\n",
       "      <td>2020-12-28</td>\n",
       "      <td>Confirmado</td>\n",
       "      <td>Óbito</td>\n",
       "      <td>Laboratorial</td>\n",
       "      <td>Internado</td>\n",
       "      <td>70.0</td>\n",
       "      <td>70a - 79a</td>\n",
       "      <td>M</td>\n",
       "      <td>0.0</td>\n",
       "      <td>0.0</td>\n",
       "      <td>0.0</td>\n",
       "      <td>COROADO</td>\n",
       "      <td>0,160758781</td>\n",
       "    </tr>\n",
       "    <tr>\n",
       "      <th>14079</th>\n",
       "      <td>2020-12-15</td>\n",
       "      <td>Confirmado</td>\n",
       "      <td>Óbito</td>\n",
       "      <td>Laboratorial</td>\n",
       "      <td>Internado em UTI</td>\n",
       "      <td>75.0</td>\n",
       "      <td>70a - 79a</td>\n",
       "      <td>F</td>\n",
       "      <td>0.0</td>\n",
       "      <td>0.0</td>\n",
       "      <td>0.0</td>\n",
       "      <td>PARQUE 10 DE NOVEMBRO</td>\n",
       "      <td>0,228326141</td>\n",
       "    </tr>\n",
       "    <tr>\n",
       "      <th>14085</th>\n",
       "      <td>2020-12-23</td>\n",
       "      <td>Confirmado</td>\n",
       "      <td>Óbito por outras causas</td>\n",
       "      <td>Laboratorial</td>\n",
       "      <td>Internado</td>\n",
       "      <td>82.0</td>\n",
       "      <td>80a ou +</td>\n",
       "      <td>M</td>\n",
       "      <td>0.0</td>\n",
       "      <td>0.0</td>\n",
       "      <td>0.0</td>\n",
       "      <td>JORGE TEIXEIRA</td>\n",
       "      <td>0,073137374</td>\n",
       "    </tr>\n",
       "    <tr>\n",
       "      <th>14086</th>\n",
       "      <td>2020-12-25</td>\n",
       "      <td>Confirmado</td>\n",
       "      <td>Óbito</td>\n",
       "      <td>Laboratorial</td>\n",
       "      <td>Internado em UTI</td>\n",
       "      <td>50.0</td>\n",
       "      <td>50a - 59a</td>\n",
       "      <td>M</td>\n",
       "      <td>0.0</td>\n",
       "      <td>0.0</td>\n",
       "      <td>0.0</td>\n",
       "      <td>FLORES</td>\n",
       "      <td>0,198306463</td>\n",
       "    </tr>\n",
       "  </tbody>\n",
       "</table>\n",
       "<p>7645 rows × 13 columns</p>\n",
       "</div>"
      ],
      "text/plain": [
       "      _dt_notificacao _classificacao               _conclusao     _criterio  \\\n",
       "130        2020-02-23     Confirmado               Recuperado  Laboratorial   \n",
       "144        2020-02-28     Confirmado               Recuperado  Laboratorial   \n",
       "153        2020-03-02     Confirmado               Recuperado  Laboratorial   \n",
       "158        2020-03-02     Confirmado               Recuperado  Laboratorial   \n",
       "196        2020-03-11     Confirmado               Recuperado       Clínico   \n",
       "...               ...            ...                      ...           ...   \n",
       "14046      2020-12-15     Confirmado                    Óbito  Laboratorial   \n",
       "14072      2020-12-28     Confirmado                    Óbito  Laboratorial   \n",
       "14079      2020-12-15     Confirmado                    Óbito  Laboratorial   \n",
       "14085      2020-12-23     Confirmado  Óbito por outras causas  Laboratorial   \n",
       "14086      2020-12-25     Confirmado                    Óbito  Laboratorial   \n",
       "\n",
       "              _evolução  _idade _faixa etária _sexo  _teste_anticorpo  \\\n",
       "130    Internado em UTI    12.0     10a - 14a     F               0.0   \n",
       "144           Internado    39.0     30a - 39a     F               0.0   \n",
       "153    Internado em UTI     2.0       1a - 4a     F               1.0   \n",
       "158    Internado em UTI    71.0     70a - 79a     F               2.0   \n",
       "196           Internado    46.0     40a - 49a     F               0.0   \n",
       "...                 ...     ...           ...   ...               ...   \n",
       "14046  Internado em UTI    60.0     60a - 69a     F               0.0   \n",
       "14072         Internado    70.0     70a - 79a     M               0.0   \n",
       "14079  Internado em UTI    75.0     70a - 79a     F               0.0   \n",
       "14085         Internado    82.0      80a ou +     M               0.0   \n",
       "14086  Internado em UTI    50.0     50a - 59a     M               0.0   \n",
       "\n",
       "       _teste_antigeno  _teste_pcr                _bairro        _taxa  \n",
       "130                0.0         1.0              MAUAZINHO   0,35040998  \n",
       "144                0.0         1.0            NOVO ALEIXO  0,085452557  \n",
       "153                0.0         0.0    PRACA 14 DE JANEIRO  0,861920359  \n",
       "158                0.0         0.0                 FLORES  0,198306463  \n",
       "196                0.0         2.0            CIDADE NOVA  0,068152389  \n",
       "...                ...         ...                    ...          ...  \n",
       "14046              0.0         0.0              LAGO AZUL  0,178428049  \n",
       "14072              0.0         0.0                COROADO  0,160758781  \n",
       "14079              0.0         0.0  PARQUE 10 DE NOVEMBRO  0,228326141  \n",
       "14085              0.0         0.0         JORGE TEIXEIRA  0,073137374  \n",
       "14086              0.0         0.0                 FLORES  0,198306463  \n",
       "\n",
       "[7645 rows x 13 columns]"
      ]
     },
     "execution_count": 15,
     "metadata": {},
     "output_type": "execute_result"
    }
   ],
   "source": [
    "df_clean_data"
   ]
  },
  {
   "cell_type": "markdown",
   "id": "8818bb60-016b-4f61-b067-c227f7185b0e",
   "metadata": {},
   "source": [
    "## 1. Quantos exemplos e atributos há na base de dados após a limpeza e organização?"
   ]
  },
  {
   "cell_type": "code",
   "execution_count": 16,
   "id": "cf9eafb7-9117-4000-a70a-e2da95975ffc",
   "metadata": {},
   "outputs": [
    {
     "name": "stdout",
     "output_type": "stream",
     "text": [
      "A base de dados restante possui 7645 registros.\n"
     ]
    }
   ],
   "source": [
    "remaining_data = df_clean_data.shape[0]\n",
    "print(f'A base de dados restante possui {remaining_data} registros.')"
   ]
  },
  {
   "cell_type": "code",
   "execution_count": 17,
   "id": "c712df38-b04a-499a-a527-f07a63008317",
   "metadata": {},
   "outputs": [
    {
     "name": "stdout",
     "output_type": "stream",
     "text": [
      "A base de dados restante possui 13 atributos.\n"
     ]
    }
   ],
   "source": [
    "remaining_data_att = df_clean_data.shape[1]\n",
    "print(f'A base de dados restante possui {remaining_data_att} atributos.')"
   ]
  },
  {
   "cell_type": "markdown",
   "id": "9c40a062-c618-45f1-8f3a-65edc60d89a6",
   "metadata": {},
   "source": [
    "## 2. Qual a porcentagem de indivíduos recuperados em relação ao todo?"
   ]
  },
  {
   "cell_type": "code",
   "execution_count": 18,
   "id": "95b1716f-561a-4ce9-a520-12cd163e62f4",
   "metadata": {},
   "outputs": [],
   "source": [
    "recovered_patients = df_clean_data[df_clean_data['_conclusao'] == 'Recuperado'].shape[0]\n",
    "total_patients = df_clean_data.shape[0]"
   ]
  },
  {
   "cell_type": "code",
   "execution_count": 19,
   "id": "e4635b28-0523-4426-9d46-d578dd370ce5",
   "metadata": {},
   "outputs": [],
   "source": [
    "percentage_recovered_patients = (recovered_patients/total_patients)*100\n",
    "percentage_recovered_patients = np.round(percentage_recovered_patients, 3)"
   ]
  },
  {
   "cell_type": "code",
   "execution_count": 20,
   "id": "bba6f603-410e-4a2e-8c81-2a4f0aba2246",
   "metadata": {},
   "outputs": [
    {
     "name": "stdout",
     "output_type": "stream",
     "text": [
      "A porcentagem de indivíduos recuperados é de 58.496%.\n"
     ]
    }
   ],
   "source": [
    "print(f'A porcentagem de indivíduos recuperados é de {percentage_recovered_patients}%.')"
   ]
  },
  {
   "cell_type": "markdown",
   "id": "e08a8c40-f560-4837-a3f9-248f75d9c437",
   "metadata": {},
   "source": [
    "## 3. Os casos acometeram mais indivíduos do sexo masculino ou feminino?"
   ]
  },
  {
   "cell_type": "code",
   "execution_count": 21,
   "id": "80de6be6-6066-47e1-a816-63db24a8e0a5",
   "metadata": {},
   "outputs": [
    {
     "name": "stdout",
     "output_type": "stream",
     "text": [
      "Sexo Masculino\n"
     ]
    }
   ],
   "source": [
    "count_F = df_clean_data.groupby(['_sexo']).size()['F']\n",
    "count_M = df_clean_data.groupby(['_sexo']).size()['M']\n",
    "print(\"Sexo Feminino\" if count_F > count_M else \"Sexo Masculino\")"
   ]
  },
  {
   "cell_type": "markdown",
   "id": "5dac9a33",
   "metadata": {},
   "source": [
    "## 4.1 Qual a média e desvio padrão de idade dos indivíduos que contraíram COVID-19? "
   ]
  },
  {
   "cell_type": "code",
   "execution_count": 22,
   "id": "3743c817",
   "metadata": {},
   "outputs": [],
   "source": [
    "individuals_age = df_clean_data['_idade']\n",
    "individuals_age_mean = np.mean(individuals_age)\n",
    "individuals_age_std = np.std(individuals_age)"
   ]
  },
  {
   "cell_type": "code",
   "execution_count": 23,
   "id": "6a3a3af4",
   "metadata": {},
   "outputs": [
    {
     "name": "stdout",
     "output_type": "stream",
     "text": [
      "Média de idades dos indivíduos é 56.29 anos.\n",
      "O desvio padrão de idades dos indivíduos é 20.83.\n"
     ]
    }
   ],
   "source": [
    "print(f'Média de idades dos indivíduos é {round(individuals_age_mean,2)} anos.')\n",
    "print(f'O desvio padrão de idades dos indivíduos é {round(individuals_age_std,2)}.')"
   ]
  },
  {
   "cell_type": "markdown",
   "id": "e332df60",
   "metadata": {},
   "source": [
    "## 4.2 Qual o indivíduo mais jovem e o mais idoso a contraírem tal enfermidade?"
   ]
  },
  {
   "cell_type": "code",
   "execution_count": 24,
   "id": "c24cb0c5",
   "metadata": {},
   "outputs": [],
   "source": [
    "df_age = pd.DataFrame(df_clean_data)\n",
    "df_age.sort_values('_idade', inplace=True, ascending=True)\n",
    "older_individual = df_age.iloc[df_age.shape[0] - 1]\n",
    "younger_individual = df_age.iloc[0]"
   ]
  },
  {
   "cell_type": "code",
   "execution_count": 25,
   "id": "b065dba3",
   "metadata": {},
   "outputs": [
    {
     "name": "stdout",
     "output_type": "stream",
     "text": [
      "O indivíduo mais idoso a contrair a enfermidade: _dt_notificacao     2020-05-07 00:00:00\n",
      "_classificacao               Confirmado\n",
      "_conclusao                        Óbito\n",
      "_criterio                  Laboratorial\n",
      "_evolução                     Internado\n",
      "_idade                            106.0\n",
      "_faixa etária                  80a ou +\n",
      "_sexo                                 F\n",
      "_teste_anticorpo                    0.0\n",
      "_teste_antigeno                     0.0\n",
      "_teste_pcr                          1.0\n",
      "_bairro                 SANTO AGOSTINHO\n",
      "_taxa                       0,497537191\n",
      "Name: 2766, dtype: object\n",
      "O indivíduo mais jovem a contrair a enfermidade: _dt_notificacao     2020-07-27 00:00:00\n",
      "_classificacao               Confirmado\n",
      "_conclusao                   Recuperado\n",
      "_criterio                  Laboratorial\n",
      "_evolução                     Internado\n",
      "_idade                              0.0\n",
      "_faixa etária                      < 1a\n",
      "_sexo                                 F\n",
      "_teste_anticorpo                    0.0\n",
      "_teste_antigeno                     0.0\n",
      "_teste_pcr                          0.0\n",
      "_bairro                   VILA DA PRATA\n",
      "_taxa                       0,747719456\n",
      "Name: 8576, dtype: object\n"
     ]
    }
   ],
   "source": [
    "print(f'O indivíduo mais idoso a contrair a enfermidade: {older_individual}')\n",
    "print(f'O indivíduo mais jovem a contrair a enfermidade: {younger_individual}')"
   ]
  },
  {
   "cell_type": "markdown",
   "id": "949dfcc4",
   "metadata": {},
   "source": [
    "## 5. Qual o bairro com maior incidência de casos?"
   ]
  },
  {
   "cell_type": "code",
   "execution_count": 26,
   "id": "388def92",
   "metadata": {},
   "outputs": [
    {
     "data": {
      "text/html": [
       "<div>\n",
       "<style scoped>\n",
       "    .dataframe tbody tr th:only-of-type {\n",
       "        vertical-align: middle;\n",
       "    }\n",
       "\n",
       "    .dataframe tbody tr th {\n",
       "        vertical-align: top;\n",
       "    }\n",
       "\n",
       "    .dataframe thead th {\n",
       "        text-align: right;\n",
       "    }\n",
       "</style>\n",
       "<table border=\"1\" class=\"dataframe\">\n",
       "  <thead>\n",
       "    <tr style=\"text-align: right;\">\n",
       "      <th></th>\n",
       "      <th>_bairro</th>\n",
       "    </tr>\n",
       "  </thead>\n",
       "  <tbody>\n",
       "    <tr>\n",
       "      <th>130</th>\n",
       "      <td>MAUAZINHO</td>\n",
       "    </tr>\n",
       "    <tr>\n",
       "      <th>144</th>\n",
       "      <td>NOVO ALEIXO</td>\n",
       "    </tr>\n",
       "    <tr>\n",
       "      <th>153</th>\n",
       "      <td>PRACA 14 DE JANEIRO</td>\n",
       "    </tr>\n",
       "    <tr>\n",
       "      <th>158</th>\n",
       "      <td>FLORES</td>\n",
       "    </tr>\n",
       "    <tr>\n",
       "      <th>196</th>\n",
       "      <td>CIDADE NOVA</td>\n",
       "    </tr>\n",
       "    <tr>\n",
       "      <th>...</th>\n",
       "      <td>...</td>\n",
       "    </tr>\n",
       "    <tr>\n",
       "      <th>14046</th>\n",
       "      <td>LAGO AZUL</td>\n",
       "    </tr>\n",
       "    <tr>\n",
       "      <th>14072</th>\n",
       "      <td>COROADO</td>\n",
       "    </tr>\n",
       "    <tr>\n",
       "      <th>14079</th>\n",
       "      <td>PARQUE 10 DE NOVEMBRO</td>\n",
       "    </tr>\n",
       "    <tr>\n",
       "      <th>14085</th>\n",
       "      <td>JORGE TEIXEIRA</td>\n",
       "    </tr>\n",
       "    <tr>\n",
       "      <th>14086</th>\n",
       "      <td>FLORES</td>\n",
       "    </tr>\n",
       "  </tbody>\n",
       "</table>\n",
       "<p>7645 rows × 1 columns</p>\n",
       "</div>"
      ],
      "text/plain": [
       "                     _bairro\n",
       "130                MAUAZINHO\n",
       "144              NOVO ALEIXO\n",
       "153      PRACA 14 DE JANEIRO\n",
       "158                   FLORES\n",
       "196              CIDADE NOVA\n",
       "...                      ...\n",
       "14046              LAGO AZUL\n",
       "14072                COROADO\n",
       "14079  PARQUE 10 DE NOVEMBRO\n",
       "14085         JORGE TEIXEIRA\n",
       "14086                 FLORES\n",
       "\n",
       "[7645 rows x 1 columns]"
      ]
     },
     "execution_count": 26,
     "metadata": {},
     "output_type": "execute_result"
    }
   ],
   "source": [
    "neighborhoods = pd.DataFrame(df_clean_data['_bairro'])\n",
    "neighborhoods"
   ]
  },
  {
   "cell_type": "markdown",
   "id": "a5b664a6",
   "metadata": {},
   "source": [
    "### Criei padrões regex para cada letra com acentos(a, e, i, o, u e ç), passei como parâmetro para uma função que busca o padrão desejado e qual deve ser o caractere para substituição, utilizando a compressão de lista para percorrer cada lista gerada a cada letra limpa."
   ]
  },
  {
   "cell_type": "code",
   "execution_count": 27,
   "id": "9803b495",
   "metadata": {},
   "outputs": [],
   "source": [
    "def clear_data(data, pattern, sub):\n",
    "    pattern_letter = re.compile(pattern)\n",
    "\n",
    "    result = re.sub(pattern_letter, sub, data, 5)\n",
    "    return result"
   ]
  },
  {
   "cell_type": "code",
   "execution_count": 28,
   "id": "63d17b26",
   "metadata": {},
   "outputs": [],
   "source": [
    "raw_neighborhoods = neighborhoods['_bairro']\n",
    "clear_a = [clear_data(x, r\"^[áàâã]$\", \"a\") for x in raw_neighborhoods]\n",
    "clear_e = [clear_data(x, r\"^[éê]$\", \"e\") for x in clear_a]\n",
    "clear_i = [clear_data(x, r\"^[í]$\", \"i\") for x in clear_e]\n",
    "clear_o = [clear_data(x, r\"^[óôòõ]$\", \"o\") for x in clear_i]\n",
    "clear_u = [clear_data(x, r\"^[ú]$\", \"u\") for x in clear_o]\n",
    "clear_c = [clear_data(x, r\"^[ç]$\", \"c\") for x in clear_u]\n",
    "df_neighborhoods_clean = pd.DataFrame(clear_c, columns = [\"_bairro\"])"
   ]
  },
  {
   "cell_type": "code",
   "execution_count": 129,
   "id": "85c9e3a4",
   "metadata": {},
   "outputs": [],
   "source": [
    "bairro_maior_incidencia = df_neighborhoods_clean.groupby(by ='_bairro').size().idxmax()"
   ]
  },
  {
   "cell_type": "code",
   "execution_count": 131,
   "id": "51e390cc",
   "metadata": {},
   "outputs": [],
   "source": [
    "numero_casos = df_neighborhoods_clean.groupby(by ='_bairro').size().max()"
   ]
  },
  {
   "cell_type": "code",
   "execution_count": 132,
   "id": "b2783c23",
   "metadata": {},
   "outputs": [
    {
     "name": "stdout",
     "output_type": "stream",
     "text": [
      "O bairro com maior incidência de casos foi CIDADE NOVA com 480 casos confirmados.\n"
     ]
    }
   ],
   "source": [
    "print (f'O bairro com maior incidência de casos foi {bairro_maior_incidencia} com {numero_casos} casos confirmados.')"
   ]
  },
  {
   "cell_type": "markdown",
   "id": "a7977240",
   "metadata": {},
   "source": [
    "## 6 - Quais os três bairros com maior incidência de casos recuperados?"
   ]
  },
  {
   "cell_type": "code",
   "execution_count": 31,
   "id": "3c59dae5",
   "metadata": {},
   "outputs": [
    {
     "data": {
      "text/plain": [
       "pandas.core.frame.DataFrame"
      ]
     },
     "execution_count": 31,
     "metadata": {},
     "output_type": "execute_result"
    }
   ],
   "source": [
    "select = df_clean_data._conclusao == 'Recuperado'\n",
    "recovered = df_clean_data[select]\n",
    "type(recovered)"
   ]
  },
  {
   "cell_type": "code",
   "execution_count": 32,
   "id": "4b1f480f",
   "metadata": {},
   "outputs": [
    {
     "name": "stdout",
     "output_type": "stream",
     "text": [
      "Três bairros com maior incidência de casos recuperados são: CIDADE NOVA, JORGE TEIXEIRA E COMPENSA.\n"
     ]
    }
   ],
   "source": [
    "recovered._bairro.value_counts()\n",
    "print(f'Três bairros com maior incidência de casos recuperados são: CIDADE NOVA, JORGE TEIXEIRA E COMPENSA.')"
   ]
  },
  {
   "cell_type": "markdown",
   "id": "e0ee28e4",
   "metadata": {},
   "source": [
    "## 7. Quais os tipos de testes efetuados, segundo os dados? Indique os dados de maneira quantitativa e percentual."
   ]
  },
  {
   "cell_type": "code",
   "execution_count": 33,
   "id": "b10cd020",
   "metadata": {},
   "outputs": [
    {
     "name": "stdout",
     "output_type": "stream",
     "text": [
      "Foram realizados testes do tipo: anticorpo, antigeno e pcr.\n"
     ]
    }
   ],
   "source": [
    "print('Foram realizados testes do tipo: anticorpo, antigeno e pcr.')"
   ]
  },
  {
   "cell_type": "code",
   "execution_count": 34,
   "id": "07af8700",
   "metadata": {},
   "outputs": [],
   "source": [
    "antibody = df_clean_data._teste_anticorpo.sum()"
   ]
  },
  {
   "cell_type": "code",
   "execution_count": 35,
   "id": "0f507920",
   "metadata": {},
   "outputs": [],
   "source": [
    "antigen = df_clean_data._teste_antigeno.sum()"
   ]
  },
  {
   "cell_type": "code",
   "execution_count": 36,
   "id": "87d5567d",
   "metadata": {},
   "outputs": [],
   "source": [
    "pcr = df_clean_data._teste_pcr.sum()"
   ]
  },
  {
   "cell_type": "code",
   "execution_count": 37,
   "id": "7c81826e",
   "metadata": {},
   "outputs": [
    {
     "name": "stdout",
     "output_type": "stream",
     "text": [
      "Quantitativa\n",
      "Teste Anticorpo: 134.0,\n",
      "Teste Antigeno: 37.0,\n",
      "Teste PCR: 3849.0.\n"
     ]
    }
   ],
   "source": [
    "print(f'Quantitativa\\nTeste Anticorpo: {antibody},\\nTeste Antigeno: {antigen},\\nTeste PCR: {pcr}.')"
   ]
  },
  {
   "cell_type": "code",
   "execution_count": 38,
   "id": "699ed660",
   "metadata": {},
   "outputs": [],
   "source": [
    "total_tests = antibody + antigen + pcr"
   ]
  },
  {
   "cell_type": "code",
   "execution_count": 39,
   "id": "9402f4e1",
   "metadata": {},
   "outputs": [
    {
     "name": "stdout",
     "output_type": "stream",
     "text": [
      "Percentual\n",
      "Teste Anticorpo: 3.33%,\n",
      "Teste Antigeno: 0.92%,\n",
      "Teste PCR: 95.75%.\n"
     ]
    }
   ],
   "source": [
    "print(f'Percentual\\nTeste Anticorpo: {round((antibody/total_tests)*100,2)}%,\\nTeste Antigeno: {round((antigen/total_tests)*100,2)}%,\\nTeste PCR: {round((pcr/total_tests)*100,2)}%.')"
   ]
  },
  {
   "cell_type": "markdown",
   "id": "21570be0",
   "metadata": {},
   "source": [
    "## 8. Qual taxa de letalidade pode ser calculada a partir do conjunto de dados? Para calcular esta taxa, considere a fração do total de óbitos pelo total de casos"
   ]
  },
  {
   "cell_type": "code",
   "execution_count": 40,
   "id": "5b1466c3",
   "metadata": {},
   "outputs": [
    {
     "name": "stderr",
     "output_type": "stream",
     "text": [
      "C:\\Users\\LudusLab\\anaconda3\\envs\\rna\\lib\\site-packages\\pandas\\core\\indexing.py:1773: SettingWithCopyWarning: \n",
      "A value is trying to be set on a copy of a slice from a DataFrame.\n",
      "Try using .loc[row_indexer,col_indexer] = value instead\n",
      "\n",
      "See the caveats in the documentation: https://pandas.pydata.org/pandas-docs/stable/user_guide/indexing.html#returning-a-view-versus-a-copy\n",
      "  self._setitem_single_column(ilocs[0], value, pi)\n"
     ]
    }
   ],
   "source": [
    "lista = pd.Series(df_clean_data._taxa)\n",
    "lista = lista.apply(lambda x: x.replace(',', '.'))\n",
    "df_clean_data.loc[df_clean_data._taxa != np.nan, '_taxa'] = lista"
   ]
  },
  {
   "cell_type": "code",
   "execution_count": 41,
   "id": "49dbd5be",
   "metadata": {},
   "outputs": [],
   "source": [
    "selection = df_clean_data._conclusao == 'Óbito'\n",
    "death_rates = df_clean_data[selection]._taxa\n",
    "df_death_rates = pd.DataFrame(death_rates)\n",
    "df_death_rates['_taxa'] = pd.to_numeric(df_death_rates['_taxa'])"
   ]
  },
  {
   "cell_type": "code",
   "execution_count": 42,
   "id": "eaae7600",
   "metadata": {
    "scrolled": false
   },
   "outputs": [
    {
     "name": "stdout",
     "output_type": "stream",
     "text": [
      "Taxa de letalidade calculada a partir do conjunto de dados: 40.8%.\n"
     ]
    }
   ],
   "source": [
    "lethal_rate = df_death_rates.shape[0]/df_clean_data.shape[0]\n",
    "print(f'Taxa de letalidade calculada a partir do conjunto de dados: {round(lethal_rate*100, 2)}%.')"
   ]
  },
  {
   "cell_type": "markdown",
   "id": "b4009d1e",
   "metadata": {},
   "source": [
    "## 9. Qual o tipo de correlação, mediante coeficiente de correlação de Pearson, entre a idade e o número de casos? Para responder a esta pergunte, agrupe o número de casos por idade e efetue o cálculo de tal coeficiente. Indique, a partir do resultado, a natureza desta correlação, se é positiva ou negativa, e qual sua intensidade."
   ]
  },
  {
   "cell_type": "code",
   "execution_count": 43,
   "id": "c5121929",
   "metadata": {},
   "outputs": [
    {
     "data": {
      "text/html": [
       "<div>\n",
       "<style scoped>\n",
       "    .dataframe tbody tr th:only-of-type {\n",
       "        vertical-align: middle;\n",
       "    }\n",
       "\n",
       "    .dataframe tbody tr th {\n",
       "        vertical-align: top;\n",
       "    }\n",
       "\n",
       "    .dataframe thead th {\n",
       "        text-align: right;\n",
       "    }\n",
       "</style>\n",
       "<table border=\"1\" class=\"dataframe\">\n",
       "  <thead>\n",
       "    <tr style=\"text-align: right;\">\n",
       "      <th></th>\n",
       "      <th>contagem</th>\n",
       "    </tr>\n",
       "    <tr>\n",
       "      <th>idade</th>\n",
       "      <th></th>\n",
       "    </tr>\n",
       "  </thead>\n",
       "  <tbody>\n",
       "    <tr>\n",
       "      <th>0.0</th>\n",
       "      <td>107</td>\n",
       "    </tr>\n",
       "    <tr>\n",
       "      <th>1.0</th>\n",
       "      <td>69</td>\n",
       "    </tr>\n",
       "    <tr>\n",
       "      <th>2.0</th>\n",
       "      <td>35</td>\n",
       "    </tr>\n",
       "    <tr>\n",
       "      <th>3.0</th>\n",
       "      <td>25</td>\n",
       "    </tr>\n",
       "    <tr>\n",
       "      <th>4.0</th>\n",
       "      <td>16</td>\n",
       "    </tr>\n",
       "    <tr>\n",
       "      <th>...</th>\n",
       "      <td>...</td>\n",
       "    </tr>\n",
       "    <tr>\n",
       "      <th>98.0</th>\n",
       "      <td>8</td>\n",
       "    </tr>\n",
       "    <tr>\n",
       "      <th>99.0</th>\n",
       "      <td>3</td>\n",
       "    </tr>\n",
       "    <tr>\n",
       "      <th>100.0</th>\n",
       "      <td>1</td>\n",
       "    </tr>\n",
       "    <tr>\n",
       "      <th>104.0</th>\n",
       "      <td>2</td>\n",
       "    </tr>\n",
       "    <tr>\n",
       "      <th>106.0</th>\n",
       "      <td>2</td>\n",
       "    </tr>\n",
       "  </tbody>\n",
       "</table>\n",
       "<p>103 rows × 1 columns</p>\n",
       "</div>"
      ],
      "text/plain": [
       "       contagem\n",
       "idade          \n",
       "0.0         107\n",
       "1.0          69\n",
       "2.0          35\n",
       "3.0          25\n",
       "4.0          16\n",
       "...         ...\n",
       "98.0          8\n",
       "99.0          3\n",
       "100.0         1\n",
       "104.0         2\n",
       "106.0         2\n",
       "\n",
       "[103 rows x 1 columns]"
      ]
     },
     "execution_count": 43,
     "metadata": {},
     "output_type": "execute_result"
    }
   ],
   "source": [
    "df_idade = pd.DataFrame(df_clean_data.groupby('_idade')[['_idade']].count())\n",
    "df_idade.rename(columns={'_idade': 'contagem'}, inplace = True)\n",
    "df_idade.rename_axis('idade')"
   ]
  },
  {
   "cell_type": "code",
   "execution_count": 44,
   "id": "b59ab98f",
   "metadata": {},
   "outputs": [],
   "source": [
    "df_idade['idades'] = df_idade.index\n",
    "correlacao = df_idade.idades.corr(df_idade.contagem)"
   ]
  },
  {
   "cell_type": "code",
   "execution_count": 45,
   "id": "0a29579a",
   "metadata": {},
   "outputs": [
    {
     "name": "stdout",
     "output_type": "stream",
     "text": [
      "Correlação positiva desprezível: 0.24.\n"
     ]
    }
   ],
   "source": [
    "print(f'Correlação positiva desprezível: {round(correlacao,2)}.')"
   ]
  },
  {
   "cell_type": "markdown",
   "id": "05c1acd3",
   "metadata": {},
   "source": [
    "# Visualização de Dados"
   ]
  },
  {
   "cell_type": "markdown",
   "id": "6fbb5b3e",
   "metadata": {},
   "source": [
    "## 1. Construa um histograma denotando a quantidade de casos nos 10 bairros em que houve mais casos registrados. Inclua todos os bairros remanescentes em uma categoria denominada “Outros.” Denote as informações de maneira percentual;"
   ]
  },
  {
   "cell_type": "code",
   "execution_count": 46,
   "id": "26e21653",
   "metadata": {},
   "outputs": [],
   "source": [
    "df_contagem = pd.DataFrame(df_neighborhoods_clean.value_counts(), columns=['contagem'])"
   ]
  },
  {
   "cell_type": "code",
   "execution_count": 47,
   "id": "8dd36155",
   "metadata": {},
   "outputs": [],
   "source": [
    "total_registros = df_contagem.contagem.sum()"
   ]
  },
  {
   "cell_type": "code",
   "execution_count": 48,
   "id": "ca162393",
   "metadata": {},
   "outputs": [],
   "source": [
    "df_temp = pd.DataFrame(df_contagem.index.values, columns=[\"bairros\"])\n",
    "df_contagem.index = range(df_contagem.shape[0])"
   ]
  },
  {
   "cell_type": "markdown",
   "id": "eb36709b",
   "metadata": {},
   "source": [
    "### df_temp.bairros possui uma tupla com valores dos bairros, aplico uma função lambda para pegar os valores em string do dataset"
   ]
  },
  {
   "cell_type": "code",
   "execution_count": 49,
   "id": "13873468",
   "metadata": {},
   "outputs": [],
   "source": [
    "df_temp['bairros'] = df_temp['bairros'].apply(lambda x: x[:][0])"
   ]
  },
  {
   "cell_type": "code",
   "execution_count": 50,
   "id": "d8228931",
   "metadata": {},
   "outputs": [],
   "source": [
    "df_contagem['bairros'] = df_temp['bairros'].copy()\n",
    "df_dez_bairros = df_contagem.loc[:9].copy()\n",
    "soma = df_contagem.loc[10:, 'contagem'].sum()\n",
    "soma = soma/total_registros\n",
    "df_dez_bairros.contagem = df_dez_bairros.contagem/total_registros"
   ]
  },
  {
   "cell_type": "code",
   "execution_count": 51,
   "id": "45d0a853",
   "metadata": {},
   "outputs": [
    {
     "data": {
      "text/html": [
       "<div>\n",
       "<style scoped>\n",
       "    .dataframe tbody tr th:only-of-type {\n",
       "        vertical-align: middle;\n",
       "    }\n",
       "\n",
       "    .dataframe tbody tr th {\n",
       "        vertical-align: top;\n",
       "    }\n",
       "\n",
       "    .dataframe thead th {\n",
       "        text-align: right;\n",
       "    }\n",
       "</style>\n",
       "<table border=\"1\" class=\"dataframe\">\n",
       "  <thead>\n",
       "    <tr style=\"text-align: right;\">\n",
       "      <th></th>\n",
       "      <th>contagem</th>\n",
       "      <th>bairros</th>\n",
       "    </tr>\n",
       "  </thead>\n",
       "  <tbody>\n",
       "    <tr>\n",
       "      <th>0</th>\n",
       "      <td>0.630870</td>\n",
       "      <td>OUTROS</td>\n",
       "    </tr>\n",
       "    <tr>\n",
       "      <th>1</th>\n",
       "      <td>0.062786</td>\n",
       "      <td>CIDADE NOVA</td>\n",
       "    </tr>\n",
       "    <tr>\n",
       "      <th>2</th>\n",
       "      <td>0.041988</td>\n",
       "      <td>COMPENSA</td>\n",
       "    </tr>\n",
       "    <tr>\n",
       "      <th>3</th>\n",
       "      <td>0.039241</td>\n",
       "      <td>JORGE TEIXEIRA</td>\n",
       "    </tr>\n",
       "    <tr>\n",
       "      <th>4</th>\n",
       "      <td>0.036756</td>\n",
       "      <td>ALVORADA</td>\n",
       "    </tr>\n",
       "    <tr>\n",
       "      <th>5</th>\n",
       "      <td>0.034532</td>\n",
       "      <td>CENTRO</td>\n",
       "    </tr>\n",
       "    <tr>\n",
       "      <th>6</th>\n",
       "      <td>0.034532</td>\n",
       "      <td>SAO JOSE OPERARIO</td>\n",
       "    </tr>\n",
       "    <tr>\n",
       "      <th>7</th>\n",
       "      <td>0.032440</td>\n",
       "      <td>NOVO ALEIXO</td>\n",
       "    </tr>\n",
       "    <tr>\n",
       "      <th>8</th>\n",
       "      <td>0.029431</td>\n",
       "      <td>PARQUE 10 DE NOVEMBRO</td>\n",
       "    </tr>\n",
       "    <tr>\n",
       "      <th>9</th>\n",
       "      <td>0.028777</td>\n",
       "      <td>COROADO</td>\n",
       "    </tr>\n",
       "    <tr>\n",
       "      <th>10</th>\n",
       "      <td>0.028646</td>\n",
       "      <td>PETROPOLIS</td>\n",
       "    </tr>\n",
       "  </tbody>\n",
       "</table>\n",
       "</div>"
      ],
      "text/plain": [
       "    contagem                bairros\n",
       "0   0.630870                 OUTROS\n",
       "1   0.062786            CIDADE NOVA\n",
       "2   0.041988               COMPENSA\n",
       "3   0.039241         JORGE TEIXEIRA\n",
       "4   0.036756               ALVORADA\n",
       "5   0.034532                 CENTRO\n",
       "6   0.034532      SAO JOSE OPERARIO\n",
       "7   0.032440            NOVO ALEIXO\n",
       "8   0.029431  PARQUE 10 DE NOVEMBRO\n",
       "9   0.028777                COROADO\n",
       "10  0.028646             PETROPOLIS"
      ]
     },
     "execution_count": 51,
     "metadata": {},
     "output_type": "execute_result"
    }
   ],
   "source": [
    "df_dez_bairros.loc[-1] = [soma, \"OUTROS\"]\n",
    "df_dez_bairros.index = df_dez_bairros.index + 1  # shifting index\n",
    "df_dez_bairros = df_dez_bairros.sort_index()\n",
    "df_dez_bairros"
   ]
  },
  {
   "cell_type": "code",
   "execution_count": 52,
   "id": "47435ea6",
   "metadata": {},
   "outputs": [
    {
     "data": {
      "image/png": "[encoded data removed]",
      "text/plain": [
       "<Figure size 864x432 with 1 Axes>"
      ]
     },
     "metadata": {},
     "output_type": "display_data"
    }
   ],
   "source": [
    "sns.set_theme(style=\"whitegrid\")\n",
    "ax = sns.histplot(data=df_dez_bairros, x=\"contagem\", hue=\"bairros\", bins=300)\n",
    "ax.figure.set_size_inches(12, 6)\n",
    "ax.set_title('Quantidade de casos nos 10 bairros em que houve mais casos registrados', loc='left', fontsize=18)\n",
    "ax.set_xlabel('Porcentagem de casos (%)', fontsize = '14')\n",
    "ax = ax"
   ]
  },
  {
   "cell_type": "markdown",
   "id": "aa9634f2",
   "metadata": {},
   "source": [
    "## 2. Denote, por sexo, o boxplot da idade dos casos confirmados. Há outliers?"
   ]
  },
  {
   "cell_type": "code",
   "execution_count": 53,
   "id": "1db47bc8",
   "metadata": {},
   "outputs": [
    {
     "data": {
      "image/png": "[encoded data removed]",
      "text/plain": [
       "<Figure size 864x432 with 1 Axes>"
      ]
     },
     "metadata": {},
     "output_type": "display_data"
    }
   ],
   "source": [
    "ax = sns.boxplot(x=\"_sexo\", y=\"_idade\", data=df_clean_data, hue=\"_sexo\")\n",
    "ax.figure.set_size_inches(12, 6)\n",
    "ax.set_title('Gráfico de Boxplot do Sexo pela idade de casos confirmados', loc='left', fontsize=18)\n",
    "ax.set_xlabel('Sexo', fontsize = '14')\n",
    "ax.set_ylabel('Idade', fontsize = '14')\n",
    "ax = ax"
   ]
  },
  {
   "cell_type": "markdown",
   "id": "aa18f69e",
   "metadata": {},
   "source": [
    "### Segundo análise do gráfico de Boxplot, sim, existem outliers no dados do sexo masculino."
   ]
  },
  {
   "cell_type": "markdown",
   "id": "d33c34ef",
   "metadata": {},
   "source": [
    "## 3. Denote em um gráfico de barras o número de novos casos por dia, considerando os 10 últimos dias existentes na base de dados;"
   ]
  },
  {
   "cell_type": "code",
   "execution_count": 54,
   "id": "f346fc6d",
   "metadata": {},
   "outputs": [
    {
     "data": {
      "text/html": [
       "<div>\n",
       "<style scoped>\n",
       "    .dataframe tbody tr th:only-of-type {\n",
       "        vertical-align: middle;\n",
       "    }\n",
       "\n",
       "    .dataframe tbody tr th {\n",
       "        vertical-align: top;\n",
       "    }\n",
       "\n",
       "    .dataframe thead th {\n",
       "        text-align: right;\n",
       "    }\n",
       "</style>\n",
       "<table border=\"1\" class=\"dataframe\">\n",
       "  <thead>\n",
       "    <tr style=\"text-align: right;\">\n",
       "      <th></th>\n",
       "      <th>_dt_notificacao</th>\n",
       "      <th>_classificacao</th>\n",
       "      <th>_conclusao</th>\n",
       "      <th>_criterio</th>\n",
       "      <th>_evolução</th>\n",
       "      <th>_idade</th>\n",
       "      <th>_faixa etária</th>\n",
       "      <th>_sexo</th>\n",
       "      <th>_teste_anticorpo</th>\n",
       "      <th>_teste_antigeno</th>\n",
       "      <th>_teste_pcr</th>\n",
       "      <th>_bairro</th>\n",
       "      <th>_taxa</th>\n",
       "    </tr>\n",
       "  </thead>\n",
       "  <tbody>\n",
       "    <tr>\n",
       "      <th>130</th>\n",
       "      <td>2020-02-23</td>\n",
       "      <td>Confirmado</td>\n",
       "      <td>Recuperado</td>\n",
       "      <td>Laboratorial</td>\n",
       "      <td>Internado em UTI</td>\n",
       "      <td>12.0</td>\n",
       "      <td>10a - 14a</td>\n",
       "      <td>F</td>\n",
       "      <td>0.0</td>\n",
       "      <td>0.0</td>\n",
       "      <td>1.0</td>\n",
       "      <td>MAUAZINHO</td>\n",
       "      <td>0.35040998</td>\n",
       "    </tr>\n",
       "    <tr>\n",
       "      <th>144</th>\n",
       "      <td>2020-02-28</td>\n",
       "      <td>Confirmado</td>\n",
       "      <td>Recuperado</td>\n",
       "      <td>Laboratorial</td>\n",
       "      <td>Internado</td>\n",
       "      <td>39.0</td>\n",
       "      <td>30a - 39a</td>\n",
       "      <td>F</td>\n",
       "      <td>0.0</td>\n",
       "      <td>0.0</td>\n",
       "      <td>1.0</td>\n",
       "      <td>NOVO ALEIXO</td>\n",
       "      <td>0.085452557</td>\n",
       "    </tr>\n",
       "    <tr>\n",
       "      <th>153</th>\n",
       "      <td>2020-03-02</td>\n",
       "      <td>Confirmado</td>\n",
       "      <td>Recuperado</td>\n",
       "      <td>Laboratorial</td>\n",
       "      <td>Internado em UTI</td>\n",
       "      <td>2.0</td>\n",
       "      <td>1a - 4a</td>\n",
       "      <td>F</td>\n",
       "      <td>1.0</td>\n",
       "      <td>0.0</td>\n",
       "      <td>0.0</td>\n",
       "      <td>PRACA 14 DE JANEIRO</td>\n",
       "      <td>0.861920359</td>\n",
       "    </tr>\n",
       "    <tr>\n",
       "      <th>158</th>\n",
       "      <td>2020-03-02</td>\n",
       "      <td>Confirmado</td>\n",
       "      <td>Recuperado</td>\n",
       "      <td>Laboratorial</td>\n",
       "      <td>Internado em UTI</td>\n",
       "      <td>71.0</td>\n",
       "      <td>70a - 79a</td>\n",
       "      <td>F</td>\n",
       "      <td>2.0</td>\n",
       "      <td>0.0</td>\n",
       "      <td>0.0</td>\n",
       "      <td>FLORES</td>\n",
       "      <td>0.198306463</td>\n",
       "    </tr>\n",
       "    <tr>\n",
       "      <th>196</th>\n",
       "      <td>2020-03-11</td>\n",
       "      <td>Confirmado</td>\n",
       "      <td>Recuperado</td>\n",
       "      <td>Clínico</td>\n",
       "      <td>Internado</td>\n",
       "      <td>46.0</td>\n",
       "      <td>40a - 49a</td>\n",
       "      <td>F</td>\n",
       "      <td>0.0</td>\n",
       "      <td>0.0</td>\n",
       "      <td>2.0</td>\n",
       "      <td>CIDADE NOVA</td>\n",
       "      <td>0.068152389</td>\n",
       "    </tr>\n",
       "    <tr>\n",
       "      <th>...</th>\n",
       "      <td>...</td>\n",
       "      <td>...</td>\n",
       "      <td>...</td>\n",
       "      <td>...</td>\n",
       "      <td>...</td>\n",
       "      <td>...</td>\n",
       "      <td>...</td>\n",
       "      <td>...</td>\n",
       "      <td>...</td>\n",
       "      <td>...</td>\n",
       "      <td>...</td>\n",
       "      <td>...</td>\n",
       "      <td>...</td>\n",
       "    </tr>\n",
       "    <tr>\n",
       "      <th>14046</th>\n",
       "      <td>2020-12-15</td>\n",
       "      <td>Confirmado</td>\n",
       "      <td>Óbito</td>\n",
       "      <td>Laboratorial</td>\n",
       "      <td>Internado em UTI</td>\n",
       "      <td>60.0</td>\n",
       "      <td>60a - 69a</td>\n",
       "      <td>F</td>\n",
       "      <td>0.0</td>\n",
       "      <td>0.0</td>\n",
       "      <td>0.0</td>\n",
       "      <td>LAGO AZUL</td>\n",
       "      <td>0.178428049</td>\n",
       "    </tr>\n",
       "    <tr>\n",
       "      <th>14072</th>\n",
       "      <td>2020-12-28</td>\n",
       "      <td>Confirmado</td>\n",
       "      <td>Óbito</td>\n",
       "      <td>Laboratorial</td>\n",
       "      <td>Internado</td>\n",
       "      <td>70.0</td>\n",
       "      <td>70a - 79a</td>\n",
       "      <td>M</td>\n",
       "      <td>0.0</td>\n",
       "      <td>0.0</td>\n",
       "      <td>0.0</td>\n",
       "      <td>COROADO</td>\n",
       "      <td>0.160758781</td>\n",
       "    </tr>\n",
       "    <tr>\n",
       "      <th>14079</th>\n",
       "      <td>2020-12-15</td>\n",
       "      <td>Confirmado</td>\n",
       "      <td>Óbito</td>\n",
       "      <td>Laboratorial</td>\n",
       "      <td>Internado em UTI</td>\n",
       "      <td>75.0</td>\n",
       "      <td>70a - 79a</td>\n",
       "      <td>F</td>\n",
       "      <td>0.0</td>\n",
       "      <td>0.0</td>\n",
       "      <td>0.0</td>\n",
       "      <td>PARQUE 10 DE NOVEMBRO</td>\n",
       "      <td>0.228326141</td>\n",
       "    </tr>\n",
       "    <tr>\n",
       "      <th>14085</th>\n",
       "      <td>2020-12-23</td>\n",
       "      <td>Confirmado</td>\n",
       "      <td>Óbito por outras causas</td>\n",
       "      <td>Laboratorial</td>\n",
       "      <td>Internado</td>\n",
       "      <td>82.0</td>\n",
       "      <td>80a ou +</td>\n",
       "      <td>M</td>\n",
       "      <td>0.0</td>\n",
       "      <td>0.0</td>\n",
       "      <td>0.0</td>\n",
       "      <td>JORGE TEIXEIRA</td>\n",
       "      <td>0.073137374</td>\n",
       "    </tr>\n",
       "    <tr>\n",
       "      <th>14086</th>\n",
       "      <td>2020-12-25</td>\n",
       "      <td>Confirmado</td>\n",
       "      <td>Óbito</td>\n",
       "      <td>Laboratorial</td>\n",
       "      <td>Internado em UTI</td>\n",
       "      <td>50.0</td>\n",
       "      <td>50a - 59a</td>\n",
       "      <td>M</td>\n",
       "      <td>0.0</td>\n",
       "      <td>0.0</td>\n",
       "      <td>0.0</td>\n",
       "      <td>FLORES</td>\n",
       "      <td>0.198306463</td>\n",
       "    </tr>\n",
       "  </tbody>\n",
       "</table>\n",
       "<p>7645 rows × 13 columns</p>\n",
       "</div>"
      ],
      "text/plain": [
       "      _dt_notificacao _classificacao               _conclusao     _criterio  \\\n",
       "130        2020-02-23     Confirmado               Recuperado  Laboratorial   \n",
       "144        2020-02-28     Confirmado               Recuperado  Laboratorial   \n",
       "153        2020-03-02     Confirmado               Recuperado  Laboratorial   \n",
       "158        2020-03-02     Confirmado               Recuperado  Laboratorial   \n",
       "196        2020-03-11     Confirmado               Recuperado       Clínico   \n",
       "...               ...            ...                      ...           ...   \n",
       "14046      2020-12-15     Confirmado                    Óbito  Laboratorial   \n",
       "14072      2020-12-28     Confirmado                    Óbito  Laboratorial   \n",
       "14079      2020-12-15     Confirmado                    Óbito  Laboratorial   \n",
       "14085      2020-12-23     Confirmado  Óbito por outras causas  Laboratorial   \n",
       "14086      2020-12-25     Confirmado                    Óbito  Laboratorial   \n",
       "\n",
       "              _evolução  _idade _faixa etária _sexo  _teste_anticorpo  \\\n",
       "130    Internado em UTI    12.0     10a - 14a     F               0.0   \n",
       "144           Internado    39.0     30a - 39a     F               0.0   \n",
       "153    Internado em UTI     2.0       1a - 4a     F               1.0   \n",
       "158    Internado em UTI    71.0     70a - 79a     F               2.0   \n",
       "196           Internado    46.0     40a - 49a     F               0.0   \n",
       "...                 ...     ...           ...   ...               ...   \n",
       "14046  Internado em UTI    60.0     60a - 69a     F               0.0   \n",
       "14072         Internado    70.0     70a - 79a     M               0.0   \n",
       "14079  Internado em UTI    75.0     70a - 79a     F               0.0   \n",
       "14085         Internado    82.0      80a ou +     M               0.0   \n",
       "14086  Internado em UTI    50.0     50a - 59a     M               0.0   \n",
       "\n",
       "       _teste_antigeno  _teste_pcr                _bairro        _taxa  \n",
       "130                0.0         1.0              MAUAZINHO   0.35040998  \n",
       "144                0.0         1.0            NOVO ALEIXO  0.085452557  \n",
       "153                0.0         0.0    PRACA 14 DE JANEIRO  0.861920359  \n",
       "158                0.0         0.0                 FLORES  0.198306463  \n",
       "196                0.0         2.0            CIDADE NOVA  0.068152389  \n",
       "...                ...         ...                    ...          ...  \n",
       "14046              0.0         0.0              LAGO AZUL  0.178428049  \n",
       "14072              0.0         0.0                COROADO  0.160758781  \n",
       "14079              0.0         0.0  PARQUE 10 DE NOVEMBRO  0.228326141  \n",
       "14085              0.0         0.0         JORGE TEIXEIRA  0.073137374  \n",
       "14086              0.0         0.0                 FLORES  0.198306463  \n",
       "\n",
       "[7645 rows x 13 columns]"
      ]
     },
     "execution_count": 54,
     "metadata": {},
     "output_type": "execute_result"
    }
   ],
   "source": [
    "df_clean_data"
   ]
  },
  {
   "cell_type": "code",
   "execution_count": 55,
   "id": "9ae268a9",
   "metadata": {},
   "outputs": [],
   "source": [
    "x = slice(-1, -11, -1)\n",
    "df_10_dias = df_clean_data.groupby('_dt_notificacao').count()[x]\n",
    "df_10_dias.drop(columns=['_conclusao', '_criterio', '_evolução', '_idade', '_faixa etária','_sexo','_teste_anticorpo','_teste_antigeno','_teste_pcr','_bairro','_taxa'], inplace=True)"
   ]
  },
  {
   "cell_type": "code",
   "execution_count": 56,
   "id": "93c076fe",
   "metadata": {},
   "outputs": [],
   "source": [
    "df_10_dias['_notificacao'] = df_10_dias.index.copy()\n",
    "df_10_dias.index = range(df_10_dias.shape[0])"
   ]
  },
  {
   "cell_type": "code",
   "execution_count": 57,
   "id": "587e4b4f",
   "metadata": {},
   "outputs": [
    {
     "data": {
      "image/png": "[encoded data removed]",
      "text/plain": [
       "<Figure size 864x432 with 1 Axes>"
      ]
     },
     "metadata": {},
     "output_type": "display_data"
    }
   ],
   "source": [
    "ax = sns.barplot(x=\"_notificacao\", y=\"_classificacao\", data=df_10_dias)\n",
    "ax.figure.set_size_inches(12, 6)\n",
    "ax.set_title('Número de novos casos por dia, dos últimos 10 dias', loc='left', fontsize=18)\n",
    "ax.set_xlabel('Data', fontsize = '14')\n",
    "ax.set_ylabel('Novos Casos', fontsize = '14')\n",
    "ax = ax"
   ]
  },
  {
   "cell_type": "markdown",
   "id": "6829928e",
   "metadata": {},
   "source": [
    "## 4. Repita o gráfico anterior considerando o número de casos recuperados;"
   ]
  },
  {
   "cell_type": "code",
   "execution_count": 58,
   "id": "683268ad",
   "metadata": {},
   "outputs": [],
   "source": [
    "x = slice(-1, -11, -1)\n",
    "df_recuperados = df_clean_data[df_clean_data['_conclusao'] == 'Recuperado'].groupby(['_dt_notificacao', '_conclusao']).count()"
   ]
  },
  {
   "cell_type": "code",
   "execution_count": 59,
   "id": "50937566",
   "metadata": {},
   "outputs": [],
   "source": [
    "df_recuperados.drop(columns=['_criterio', '_evolução', '_idade', '_faixa etária','_sexo','_teste_anticorpo','_teste_antigeno','_teste_pcr','_bairro','_taxa'], inplace=True)"
   ]
  },
  {
   "cell_type": "code",
   "execution_count": 60,
   "id": "ed0092b6",
   "metadata": {},
   "outputs": [],
   "source": [
    "df_recuperados['_notificacao'] = df_recuperados.index.get_level_values(0).copy()"
   ]
  },
  {
   "cell_type": "code",
   "execution_count": 61,
   "id": "d6c6af16",
   "metadata": {},
   "outputs": [],
   "source": [
    "df_recuperados.index = range(df_recuperados.shape[0])"
   ]
  },
  {
   "cell_type": "code",
   "execution_count": 62,
   "id": "b76e4364",
   "metadata": {},
   "outputs": [],
   "source": [
    "df_recuperados.loc[:, '_notificacao_mes'] = df_recuperados._notificacao.dt.month"
   ]
  },
  {
   "cell_type": "code",
   "execution_count": 63,
   "id": "0f772b8a",
   "metadata": {},
   "outputs": [
    {
     "data": {
      "text/html": [
       "<div>\n",
       "<style scoped>\n",
       "    .dataframe tbody tr th:only-of-type {\n",
       "        vertical-align: middle;\n",
       "    }\n",
       "\n",
       "    .dataframe tbody tr th {\n",
       "        vertical-align: top;\n",
       "    }\n",
       "\n",
       "    .dataframe thead th {\n",
       "        text-align: right;\n",
       "    }\n",
       "</style>\n",
       "<table border=\"1\" class=\"dataframe\">\n",
       "  <thead>\n",
       "    <tr style=\"text-align: right;\">\n",
       "      <th></th>\n",
       "      <th>_classificacao</th>\n",
       "      <th>_notificacao</th>\n",
       "      <th>_notificacao_mes</th>\n",
       "    </tr>\n",
       "  </thead>\n",
       "  <tbody>\n",
       "    <tr>\n",
       "      <th>0</th>\n",
       "      <td>1</td>\n",
       "      <td>2020-02-23</td>\n",
       "      <td>2</td>\n",
       "    </tr>\n",
       "    <tr>\n",
       "      <th>1</th>\n",
       "      <td>1</td>\n",
       "      <td>2020-02-28</td>\n",
       "      <td>2</td>\n",
       "    </tr>\n",
       "    <tr>\n",
       "      <th>2</th>\n",
       "      <td>2</td>\n",
       "      <td>2020-03-02</td>\n",
       "      <td>3</td>\n",
       "    </tr>\n",
       "    <tr>\n",
       "      <th>3</th>\n",
       "      <td>1</td>\n",
       "      <td>2020-03-11</td>\n",
       "      <td>3</td>\n",
       "    </tr>\n",
       "    <tr>\n",
       "      <th>4</th>\n",
       "      <td>1</td>\n",
       "      <td>2020-03-16</td>\n",
       "      <td>3</td>\n",
       "    </tr>\n",
       "    <tr>\n",
       "      <th>...</th>\n",
       "      <td>...</td>\n",
       "      <td>...</td>\n",
       "      <td>...</td>\n",
       "    </tr>\n",
       "    <tr>\n",
       "      <th>254</th>\n",
       "      <td>8</td>\n",
       "      <td>2020-11-24</td>\n",
       "      <td>11</td>\n",
       "    </tr>\n",
       "    <tr>\n",
       "      <th>255</th>\n",
       "      <td>17</td>\n",
       "      <td>2020-11-25</td>\n",
       "      <td>11</td>\n",
       "    </tr>\n",
       "    <tr>\n",
       "      <th>256</th>\n",
       "      <td>11</td>\n",
       "      <td>2020-11-26</td>\n",
       "      <td>11</td>\n",
       "    </tr>\n",
       "    <tr>\n",
       "      <th>257</th>\n",
       "      <td>10</td>\n",
       "      <td>2020-11-27</td>\n",
       "      <td>11</td>\n",
       "    </tr>\n",
       "    <tr>\n",
       "      <th>258</th>\n",
       "      <td>12</td>\n",
       "      <td>2020-11-28</td>\n",
       "      <td>11</td>\n",
       "    </tr>\n",
       "  </tbody>\n",
       "</table>\n",
       "<p>259 rows × 3 columns</p>\n",
       "</div>"
      ],
      "text/plain": [
       "     _classificacao _notificacao  _notificacao_mes\n",
       "0                 1   2020-02-23                 2\n",
       "1                 1   2020-02-28                 2\n",
       "2                 2   2020-03-02                 3\n",
       "3                 1   2020-03-11                 3\n",
       "4                 1   2020-03-16                 3\n",
       "..              ...          ...               ...\n",
       "254               8   2020-11-24                11\n",
       "255              17   2020-11-25                11\n",
       "256              11   2020-11-26                11\n",
       "257              10   2020-11-27                11\n",
       "258              12   2020-11-28                11\n",
       "\n",
       "[259 rows x 3 columns]"
      ]
     },
     "execution_count": 63,
     "metadata": {},
     "output_type": "execute_result"
    }
   ],
   "source": [
    "df_recuperados"
   ]
  },
  {
   "cell_type": "code",
   "execution_count": 64,
   "id": "3c5b9ee1",
   "metadata": {},
   "outputs": [
    {
     "data": {
      "image/png": "[encoded data removed]",
      "text/plain": [
       "<Figure size 1296x864 with 1 Axes>"
      ]
     },
     "metadata": {},
     "output_type": "display_data"
    }
   ],
   "source": [
    "ax = sns.barplot(x=\"_notificacao_mes\", y=\"_classificacao\", data=df_recuperados)\n",
    "ax.figure.set_size_inches(18, 12)\n",
    "ax.set_title('Número de casos recuperados', loc='left', fontsize=18)\n",
    "ax.set_xlabel('Meses do Ano', fontsize = '14')\n",
    "ax.set_ylabel('Novos Casos Recuperados', fontsize = '14')\n",
    "ax = ax"
   ]
  },
  {
   "cell_type": "markdown",
   "id": "504f9ebe",
   "metadata": {},
   "source": [
    "## 5. Construa um histograma que denote a quantidade percentual de casos por grupo etário, considerando que cada grupo contempla uma década (0 a 10 anos, 11 a 20 anos, etc.);"
   ]
  },
  {
   "cell_type": "code",
   "execution_count": 139,
   "id": "048e4032",
   "metadata": {},
   "outputs": [],
   "source": [
    "df_faixa = df_clean_data.groupby(['_faixa etária']).count()"
   ]
  },
  {
   "cell_type": "code",
   "execution_count": 142,
   "id": "cf0c6ac0",
   "metadata": {},
   "outputs": [],
   "source": [
    "df_faixa.drop(columns=['_dt_notificacao','_conclusao','_criterio','_evolução','_sexo','_teste_anticorpo','_teste_antigeno','_teste_pcr','_bairro','_taxa'], inplace=True)"
   ]
  },
  {
   "cell_type": "code",
   "execution_count": 146,
   "id": "a5ac1a33",
   "metadata": {},
   "outputs": [],
   "source": [
    "df_faixa._idade = round(df_faixa._idade/df_faixa._idade.shape[0],2)"
   ]
  },
  {
   "cell_type": "code",
   "execution_count": 147,
   "id": "c35340ee",
   "metadata": {},
   "outputs": [
    {
     "data": {
      "image/png": "[encoded data removed]",
      "text/plain": [
       "<Figure size 864x432 with 1 Axes>"
      ]
     },
     "metadata": {},
     "output_type": "display_data"
    }
   ],
   "source": [
    "sns.set_theme(style=\"whitegrid\")\n",
    "ax = sns.histplot(data=df_faixa, x=\"_faixa etária\", hue=\"_idade\", bins=300)\n",
    "ax.figure.set_size_inches(12, 6)\n",
    "ax.set_title('Faixa etária por idade', loc='left', fontsize=18)\n",
    "ax.set_xlabel('Percentual de idades (%)', fontsize = '14')\n",
    "ax = ax"
   ]
  },
  {
   "cell_type": "markdown",
   "id": "51126201",
   "metadata": {},
   "source": [
    "## 6. Elabore um gráfico que mostra o cumulativo de casos notificados ao longo do tempo;"
   ]
  },
  {
   "cell_type": "code",
   "execution_count": null,
   "id": "916f3699",
   "metadata": {},
   "outputs": [],
   "source": []
  }
 ],
 "metadata": {
  "interpreter": {
   "hash": "810ca3a76d7cc867501caa1d480b027a0c4117bc496204715cde117464dcb849"
  },
  "kernelspec": {
   "display_name": "Python 3 (ipykernel)",
   "language": "python",
   "name": "python3"
  },
  "language_info": {
   "codemirror_mode": {
    "name": "ipython",
    "version": 3
   },
   "file_extension": ".py",
   "mimetype": "text/x-python",
   "name": "python",
   "nbconvert_exporter": "python",
   "pygments_lexer": "ipython3",
   "version": "3.8.11"
  }
 },
 "nbformat": 4,
 "nbformat_minor": 5
}
